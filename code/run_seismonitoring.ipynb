{
 "cells": [
  {
   "cell_type": "markdown",
   "id": "e20b97c7-9eb8-48f4-8e48-822d9d86ce0f",
   "metadata": {},
   "source": [
    "# Working example of SeisMonitoring.jl\n",
    "\n",
    "This notebook conducts the processing of ambient seismic noise using the Julia-based software [SeisMonitoring.jl](https://github.com/kura-okubo/SeisMonitoring.jl)."
   ]
  },
  {
   "cell_type": "markdown",
   "id": "67c49a41-cfd9-4ba2-b947-25afe47dd0ee",
   "metadata": {},
   "source": [
    "# Installation"
   ]
  },
  {
   "cell_type": "markdown",
   "id": "e082535a-8565-4b3e-abf1-0006476e9912",
   "metadata": {},
   "source": [
    "## How to run this notebook\n",
    "We have two options to run this notebook.\n",
    "\n",
    "### Run using the docker container\n",
    "We first recommend using the docker container, which does not contaminate your environment in the local machine.\n",
    "\n",
    "To run this notebook using docker,\n",
    "\n",
    "1. **Install the docker engine on your machine.**\n",
    "\n",
    "    <a href=\"https://docs.docker.com/engine/install\" target=\"_blank\">See the official documentation for the installation.</a> The Docker Desktop is useful in general machines like Windows, Linux, and Mac OS. We developed this notebook using MacOS with both M1 and Intel chips.\n",
    "\n",
    "   You can configure them in the `settings` of the Docker Desktop. The required docker resources are the following:\n",
    "\n",
    "\n",
    "|     |     |\n",
    "| --- | --- |\n",
    "| CPUs | >=2 |\n",
    "| Memory | > 8GB |\n",
    "| Swap | > 1GB |\n",
    "| Disk image size | > 8GB |\n",
    "\n",
    "   \n",
    "2. **Launch the docker engine.**\n",
    "\n",
    "   Type `docker ps` in the terminal to check if the docker command works.\n",
    "   if you get the error like `Cannot connect to the Docker daemon at unix:///var/run/docker.sock. Is the docker daemon running?`,\n",
    "   the docker engine is not likely to be ready. Check the status of Docker desktop.\n",
    "\n",
    "3. **Download the example repository, and build the docker container.**\n",
    "\n",
    "   Type the commands below to build the docker container in your machine.\n",
    "\n",
    "    ```bash\n",
    "    git clone https://github.com/kura-okubo/SeisMonitoring_Example\n",
    "    cd SeisMonitoring_Example\n",
    "    docker compose up -d\n",
    "\n",
    "\n",
    "    ```\n",
    "\n",
    "   The JupyterLab server automatically starts in the container when you start it following the description written in `docker-compose.yml`. Type\n",
    "   ```\n",
    "   docker compose ps\n",
    "\n",
    "   \n",
    "   ```\n",
    "   and if the container is successfully started, it returns as follows:\n",
    "   ```\n",
    "   NAME                SERVICE             STATUS              PORTS\n",
    "   seismonitoring      seismonitoring      running             0.0.0.0:8888->8888/tcp\n",
    "\n",
    "   \n",
    "   ```\n",
    "\n",
    "   We use the docker image of **Julia v1.9.2**, which is the latest version as of August 2023.\n",
    "   \n",
    "5. **Launch the JupyterLab in your web browser.**\n",
    "  \n",
    "    Go to <a href=\"http://localhost:8888\" target=\"_blank\">http://localhost:8888</a> with your browser (e.g. Google Chrome) or type `open http://127.0.0.1:8888` in your terminal to open the JupyterLab. If succeeded, you will find the Launcher of the kernels.\n",
    "\n",
    "    <img src=\"./JupyterLab_seismonitoring.jpg\" alt=\"JupyterLab_seismonitoring.jpg\" width=\"550px\"/>\n",
    "    \n",
    "    Go to the `code` directory, and open `run_seismonitoring.ipynb`."
   ]
  },
  {
   "cell_type": "markdown",
   "id": "a2680045-784b-4ce3-8294-37d30f684f79",
   "metadata": {},
   "source": [
    "#### Key commands for Docker users\n",
    "Here are some useful commands to manage the docker container. <br>You can execute these commands **in the working directory where `docker-compose.yml` is located.**\n",
    "\n",
    "|     |     |\n",
    "| --- | --- |\n",
    "|`docker compose up -d`| Build and start the docker service named as `seismonitoring`. `-d` is the detach mode to run the service in background|\n",
    "|`docker compose ps`| Show the status of docker service.|\n",
    "|`docker compose exec seismonitoring /bin/bash`| Login to enter the docker container. | \n",
    "|`open http://127.0.0.1:8888`| After running the docker service, you can open the jupyterlab with the browser of localhost.|\n",
    "|`docker compose stop`| Stop the docker container.|\n",
    "|`docker compose start seismonitoring`| Start the docker container.|\n",
    "|`docker compose restart`| Restart the docker container.|\n",
    "|`docker compose down`| Remove the container <br> **Caution:** This command removes the installed Julia packages, i.e. you need to redownload them from the beginning. Use `docker compose stop` if you just want to pause the docker container.|\n"
   ]
  },
  {
   "cell_type": "markdown",
   "id": "6a425a03-1d19-4e10-a2e6-eeb65dca6ecb",
   "metadata": {
    "jp-MarkdownHeadingCollapsed": true
   },
   "source": [
    "### Run in your own environment\n",
    "\n",
    "You can run this notebook by installing Julia in your local environment instead of using the docker container.\n",
    "\n",
    "Try the following steps:\n",
    "\n",
    "1. **Download the example repository**\n",
    "\n",
    "   Download the example repository from GitHub as follows:\n",
    "\n",
    "    ```bash\n",
    "    git clone https://github.com/kura-okubo/SeisMonitoring_Example\n",
    "    cd SeisMonitoring_Example\n",
    "\n",
    "    \n",
    "    ```    \n",
    "2. **Download Julia in your machine.**\n",
    "\n",
    "   We developed and conducted the `SeisMonitoring.jl` using the **Julia v1.7.3**, while we also tested this notebook in **Julia v1.9.2**.\n",
    "   \n",
    "   You can download either version of Julia from the official website (https://julialang.org/downloads/oldreleases/).\n",
    "   \n",
    "   After installing the Julia, launch the [Julia REPL](https://docs.julialang.org/en/v1/stdlib/REPL/) by executing e.g. `/Applications/Julia-1.9.app/Contents/Resources/julia/bin/julia`. You will find the logo in the terminal as follows:\n",
    "\n",
    "   ```\n",
    "                   _\n",
    "       _       _ _(_)_     |  Documentation: https://docs.julialang.org\n",
    "      (_)     | (_) (_)    |\n",
    "       _ _   _| |_  __ _   |  Type \"?\" for help, \"]?\" for Pkg help.\n",
    "      | | | | | | |/ _` |  |\n",
    "      | | |_| | | | (_| |  |  Version 1.9.2 (2023-07-05)\n",
    "     _/ |\\__'_|_|_|\\__'_|  |  Official https://julialang.org/ release\n",
    "    |__/                   |\n",
    "\n",
    "    julia>\n",
    "\n",
    "   \n",
    "    ```\n",
    "\n",
    "4. **Install IJulia.jl**\n",
    "\n",
    "   To launch the JupyterLab with the Julia kernel, you need to install the [IJulia](https://github.com/JuliaLang/IJulia.jl).\n",
    "\n",
    "   Type\n",
    "   ```\n",
    "   import Pkg; Pkg.add(\"IJulia\")\n",
    "\n",
    "   \n",
    "   ```\n",
    "\n",
    "   to download and install the package. Note that the package is located in `~/.julia/packages`. Then, type\n",
    "\n",
    "   ```\n",
    "   import IJulia\n",
    "   IJulia.jupyterlab(dir=pwd())\n",
    "\n",
    "   \n",
    "   ```\n",
    "   You are asked to install Jupyter such as `install Jupyter via Conda, y/n? [y]:`, so type `y` to install it.\n",
    "\n",
    "   After installing Jupyter, it opens JupyterLab Launcher in your browser.<br>\n",
    "   **Tips:** You can launch the JupyterLab by the bash command such as\n",
    "\n",
    "   ```\n",
    "   julia -e 'import Pkg; Pkg.add(\"Conda\")'\n",
    "   `julia -e \"import Conda; print(Conda.PREFIX)\"`/bin/jupyter lab --NotebookApp.token=''\n",
    "\n",
    "\n",
    "   ```\n",
    "   This calls the `jupyter` located in e.g. `/root/.julia/conda/3/x86_64/bin`. We use this metric in the docker-compose to launch the JupyterLab.\n",
    "\n",
    "\n"
   ]
  },
  {
   "cell_type": "markdown",
   "id": "154b77ef-edf8-4477-9f63-3dd3c69f3c57",
   "metadata": {},
   "source": [
    "### Install Julia packages\n",
    "\n",
    "After you successfully open the notebook, install the Julia packages associated with the seismic processing into your environment.\n",
    "\n",
    "**It takes a maximum of 15 minutes to download and install the packages, but you need this only the first time you launch the new docker container or your local machine.**\n",
    "\n",
    "To keep those packages in your container, use `docker compose stop`, not `docker compose down`.\n",
    "\n",
    "**Warning:** If you use the local Julia environment without the docker container, the installation would fail or it contaminates your environment due to the dependencies. "
   ]
  },
  {
   "cell_type": "markdown",
   "id": "d9c721ec-f9f6-4b8d-b72d-732e9d1e9fb5",
   "metadata": {},
   "source": [
    "We install the following Julia packages:\n",
    "\n",
    "\n",
    "|     |     |\n",
    "| --- | --- |\n",
    "| [SeisIO.jl](https://github.com/jpjones76/SeisIO.jl) | The kernel to handle the seismic waveforms |\n",
    "| [SeisNoise.jl](https://github.com/tclements/SeisNoise.jl) | Compute noise cross-correlations |\n",
    "| [SeisDvv.jl](https://github.com/tclements/SeisDvv.jl)| Measure dv/v |\n",
    "| [SeisMonitoring.jl](https://github.com/kura-okubo/SeisMonitoring.jl) | Processing noise from downloading to the measurement of dv/v |\n",
    "\n"
   ]
  },
  {
   "cell_type": "markdown",
   "id": "25b2b7d9-bd5f-4bd6-ae71-1d97f7de3647",
   "metadata": {},
   "source": [
    "Run the following cell to install the packages listed above.\n",
    "\n",
    "**NOTE:** If the precompile causes an error, please check if the `disk image size` of the docker is not run out."
   ]
  },
  {
   "cell_type": "code",
   "execution_count": null,
   "id": "f480ce16-3978-46a2-99b2-fa2b34b18789",
   "metadata": {},
   "outputs": [],
   "source": [
    "using Pkg; Pkg.update(); \n",
    "# Pkg.add(PackageSpec(name=\"SeisIO\", version=\"1.2.1\")); # This should work in the docker environment, while we use the forked version below in which the version of dependencies is updated.\n",
    "Pkg.add(url=\"https://github.com/kura-okubo/SeisIO.jl\") # forked version used for the environment including Mac M1\n",
    "Pkg.add(PackageSpec(name=\"SeisNoise\", version=\"0.5.3\"));\n",
    "Pkg.develop(url=\"https://github.com/kura-okubo/SeisDvv.jl\");\n",
    "Pkg.develop(url=\"https://github.com/kura-okubo/SeisMonitoring.jl\");\n",
    "\n",
    "# Add some more basic packages\n",
    "Pkg.add([\"Plots\", \"JLD2\", \"DataStructures\", \"Dates\", \"CSV\", \"DataFrames\"])"
   ]
  },
  {
   "cell_type": "markdown",
   "id": "12bcdbac-ed87-4071-93c3-4ff6d48e67fe",
   "metadata": {},
   "source": [
    "### Uninstall: delete the container\n",
    "\n",
    "This container downloads the seismic waveforms and correlation functions as well as the Julia packages. **The amount of disk space used for this tutorial is ~3GB in total.** If you want to clean up the files, you can remove them separately, or remove the container by `docker compose down`.   "
   ]
  },
  {
   "cell_type": "markdown",
   "id": "3e2d53ca-fd25-4a80-875a-d51924f42bbb",
   "metadata": {},
   "source": [
    "# Workflow of this notebook\n",
    "\n",
    "We perform the following processings step by step:\n",
    "\n",
    "0. Initiate the project\n",
    "1. Download the data\n",
    "2. Remove transient signals\n",
    "3. Compute cross-correlation\n",
    "4. Stacking the correlation functions and evaluate dv/v\n",
    "5. Post-processing to plot the dv/v time series\n",
    "\n",
    "**NOTE:** We already prepared the data of cross-correlation functions to conduct `4. stacking the correlation function and evaluate dv/v` as we demonstrate the stacks of the correlation functions over 20 years in this notebook. We need computational resources,  e.g. a minimum of 48 cores of workstation and enough storage, to compute the number of correlations within a reasonable computational time."
   ]
  },
  {
   "cell_type": "markdown",
   "id": "72c9f21a-c307-4794-a9fe-c84ba607bbf8",
   "metadata": {},
   "source": [
    "# 0. Initiate the project\n",
    "\n",
    "We first initialize the project to make the directories for the output files.\n",
    "\n",
    "**NOTE:** All the parameters used for the processing is managed in `mainparam.jl`. You can modify it with either the function of `set_parameter()` or directory editing the file using text editor."
   ]
  },
  {
   "cell_type": "code",
   "execution_count": null,
   "id": "83ce48ba-a60d-4425-a2d0-0c388c6f6221",
   "metadata": {},
   "outputs": [],
   "source": [
    "# Import packages to be used in this notebook\n",
    "using SeisIO, SeisNoise, SeisMonitoring, Plots, JLD2, Dates, Downloads, CSV, DataFrames, Distributed, IJulia"
   ]
  },
  {
   "cell_type": "code",
   "execution_count": 3,
   "id": "2db82c5b-f09c-4ad4-924a-111baa08d18c",
   "metadata": {},
   "outputs": [
    {
     "name": "stdout",
     "output_type": "stream",
     "text": [
      "search: \u001b[0m\u001b[1ms\u001b[22m\u001b[0m\u001b[1me\u001b[22m\u001b[0m\u001b[1mt\u001b[22m\u001b[0m\u001b[1m_\u001b[22m\u001b[0m\u001b[1mp\u001b[22m\u001b[0m\u001b[1ma\u001b[22m\u001b[0m\u001b[1mr\u001b[22m\u001b[0m\u001b[1ma\u001b[22m\u001b[0m\u001b[1mm\u001b[22m\u001b[0m\u001b[1me\u001b[22m\u001b[0m\u001b[1mt\u001b[22m\u001b[0m\u001b[1me\u001b[22m\u001b[0m\u001b[1mr\u001b[22m\n",
      "\n"
     ]
    },
    {
     "data": {
      "text/latex": [
       "\\begin{verbatim}\n",
       "set_parameter(inputfilename::String, key::String, value::String)\n",
       "\\end{verbatim}\n",
       "Set parameter of input dictionary in the inputfile.\n",
       "\n"
      ],
      "text/markdown": [
       "```\n",
       "set_parameter(inputfilename::String, key::String, value::String)\n",
       "```\n",
       "\n",
       "Set parameter of input dictionary in the inputfile.\n"
      ],
      "text/plain": [
       "\u001b[36m  set_parameter(inputfilename::String, key::String, value::String)\u001b[39m\n",
       "\n",
       "  Set parameter of input dictionary in the inputfile."
      ]
     },
     "execution_count": 3,
     "metadata": {},
     "output_type": "execute_result"
    }
   ],
   "source": [
    "?set_parameter"
   ]
  },
  {
   "cell_type": "code",
   "execution_count": 4,
   "id": "14181a53-45eb-405a-8de6-2cb9117916e6",
   "metadata": {},
   "outputs": [
    {
     "data": {
      "text/plain": [
       "\"20231015T025758156\""
      ]
     },
     "execution_count": 4,
     "metadata": {},
     "output_type": "execute_result"
    }
   ],
   "source": [
    "project_name = \"run_seismonitoring_demo\"\n",
    "project_inputdir=\"/root/data\"\n",
    "project_outputdir=\"/root/data\"\n",
    "\n",
    "master_param=\"/root/code/mainparam_master.jl\"\n",
    "\n",
    "t_now=Dates.format(now(), dateformat\"yyyymmdd\\THHMMSSsss\") # used for the figure name to avoid the figure cache"
   ]
  },
  {
   "cell_type": "code",
   "execution_count": 5,
   "id": "c987009b-961d-47cd-8214-2a0bb5a2c95c",
   "metadata": {},
   "outputs": [
    {
     "name": "stdout",
     "output_type": "stream",
     "text": [
      "\n",
      "Project OUTPUT /root/data/run_seismonitoring_demo_OUTPUT contains:\n",
      "/cc\n",
      "/cc_channel_collection\n",
      "/plots\n",
      "/seismicdata\n",
      "/stack\n",
      "/BP.EADB.40.SP1-BP.EADB.40.SP1\n",
      "/BP.EADB.40.SP1-BP.EADB.40.SP2\n",
      "/BP.EADB.40.SP1-BP.EADB.40.SP3\n",
      "/BP.EADB.40.SP2-BP.EADB.40.SP1\n",
      "/BP.EADB.40.SP2-BP.EADB.40.SP2\n",
      "/BP.EADB.40.SP2-BP.EADB.40.SP3\n",
      "/BP.EADB.40.SP3-BP.EADB.40.SP1\n",
      "/BP.EADB.40.SP3-BP.EADB.40.SP2\n",
      "/BP.EADB.40.SP3-BP.EADB.40.SP3\n",
      "/cc\n",
      "/dQc\n",
      "/dvv\n",
      "/seismicdata\n",
      "/stack\n",
      "/rawseismicdata\n",
      "/seisremoveeq\n",
      "/BP.EADB.40.SP1\n",
      "/BP.EADB.40.SP2\n",
      "/BP.EADB.40.SP3\n",
      "/2016\n",
      "/2016\n",
      "/2016\n",
      "/BP.EADB.40.SP1\n",
      "/BP.EADB.40.SP2\n",
      "/BP.EADB.40.SP3\n",
      "/2016\n",
      "/2016\n",
      "/2016\n",
      "/reference\n",
      "/shorttime\n",
      "\n",
      "\n",
      "\u001b[32m\u001b[1mInput Project directory is made at:\u001b[22m\u001b[39m\n",
      "\n",
      "\u001b[32m\u001b[1m/root/data/run_seismonitoring_demo_INPUT\u001b[22m\u001b[39m\n",
      "\n",
      "\u001b[32m\u001b[1mOutput Project directory is made at:\u001b[22m\u001b[39m\n",
      "\n",
      "\u001b[32m\u001b[1m/root/data/run_seismonitoring_demo_OUTPUT\u001b[22m\u001b[39m\n",
      "\n"
     ]
    }
   ],
   "source": [
    "# make default input and output directory\n",
    "init_project(project_name=project_name,\n",
    "             project_inputdir=project_inputdir,\n",
    "             project_outputdir=project_outputdir,\n",
    "             force=true, gui=false \n",
    "            )"
   ]
  },
  {
   "cell_type": "code",
   "execution_count": 6,
   "id": "f9462da9-e6bc-468c-bd8f-cde916320df9",
   "metadata": {},
   "outputs": [],
   "source": [
    "# make request station list\n",
    "fipath = \"/root/code/BP_gmap-stations_example.txt\"\n",
    "\n",
    "locchan = Dict(\n",
    "            \"BP\" => [(\"*\", \"SP*\")]\n",
    "            )\n",
    "\n",
    "station_fodir = project_outputdir*\"/$(project_name)_OUTPUT\"\n",
    "station_path = make_requeststation_fromIRISgmap(fipath, locchan=locchan, fodir=station_fodir, foname=\"$(project_name).jld2\")\n",
    "\n",
    "# copy master parameter file into project directory\n",
    "fo_mainparam = project_inputdir*\"/$(project_name)_INPUT/mainparam.jl\"\n",
    "~isfile(fo_mainparam) && cp(master_param, fo_mainparam)\n",
    "\n",
    "# replace parameters for casestudy\n",
    "set_parameter(fo_mainparam, \"project_name\", project_name)\n",
    "set_parameter(fo_mainparam, \"project_inputdir\", project_inputdir*\"/$(project_name)_INPUT\")\n",
    "set_parameter(fo_mainparam, \"project_outputdir\", project_outputdir*\"/$(project_name)_OUTPUT\")\n",
    "set_parameter(fo_mainparam, \"requeststation_file\",  station_fodir*\"/$(project_name).jld2\")"
   ]
  },
  {
   "cell_type": "code",
   "execution_count": 7,
   "id": "8ff7fe6a-00c8-48e6-9350-bf4672eba222",
   "metadata": {},
   "outputs": [
    {
     "data": {
      "text/plain": [
       "OrderedDict{String, Tuple{String, DataType, String}} with 92 entries:\n",
       "  \"project_name\"         => (\"run_seismonitoring_demo\", String, \"project name.\")\n",
       "  \"project_inputdir\"     => (\"/root/data/run_seismonitoring_demo_INPUT\", String…\n",
       "  \"project_outputdir\"    => (\"/root/data/run_seismonitoring_demo_OUTPUT\", Strin…\n",
       "  \"starttime\"            => (\"2002-01-01T00:00:00\", DateTime, \"process start ti…\n",
       "  \"endtime\"              => (\"2022-06-01T00:00:00\", DateTime, \"process end time…\n",
       "  \"sampling_frequency\"   => (\"20\", Float64, \"[Hz] Processing sampling frequency…\n",
       "  \"freqency_band\"        => (\"0.9, 1.2\", Float64, \"Frequency bands to be analyz…\n",
       "  \"MAX_MEM_USE\"          => (\"3.0\", Float64, \"[GB] Maximum memory use per core …\n",
       "  \"download_time_unit\"   => (\"86400\", Int64, \"[s] Unit time of data request. (e…\n",
       "  \"download_margin\"      => (\"300\", Int64, \"[s] Download margin to be clipped t…\n",
       "  \"requeststation_file\"  => (\"/root/data/run_seismonitoring_demo_OUTPUT/run_sei…\n",
       "  \"IsResponseRemove\"     => (\"true\", Bool, \"True if remove instrumental respons…\n",
       "  \"IsLocationBox\"        => (\"false\", Bool, \"True if using lat-lon box for requ…\n",
       "  \"reg\"                  => (\"35.7, 36.1, -120.7, -120.2\", Float64, \"minlat, ma…\n",
       "  \"Istmpfilepreserved\"   => (\"false\", Bool, \"True if you want to preserve tempo…\n",
       "  \"IsXMLfilepreserved\"   => (\"false\", Bool, \"True if you want to preserve stati…\n",
       "  \"numstationperrequest\" => (\"1\", Int64, \"Advanced: number of station per one H…\n",
       "  \"outputformat\"         => (\"JLD2\", String, \"JLD2 or ASDF: use JLD2 if you per…\n",
       "  \"RawData_path\"         => (\"default\", String, \"\\\"default\\\" or absolute/relati…\n",
       "  \"IsKurtosisRemoval\"    => (\"true\", Bool, \"Apply Kurtosis removal.\")\n",
       "  \"IsSTALTARemoval\"      => (\"true\", Bool, \"Apply STA/LTA removal.\")\n",
       "  \"IsWhitening\"          => (\"false\", Bool, \"Apply Spectral whitening.\")\n",
       "  \"freqmin_whiten\"       => (\"0.1\", Float64, \"Minimum cutoff frequency for spec…\n",
       "  \"freqmax_whiten\"       => (\"1.0\", Float64, \"Maximum cutoff frequency for spec…\n",
       "  \"Append_alltraces\"     => (\"false\", Bool, \"Append kurtosis and stalta traces …\n",
       "  ⋮                      => ⋮"
      ]
     },
     "execution_count": 7,
     "metadata": {},
     "output_type": "execute_result"
    }
   ],
   "source": [
    "# Check the main parameters\n",
    "# load the dictionary of mainparam.jl\n",
    "PARAM = include(\"/root/data/run_seismonitoring_demo_INPUT/mainparam.jl\")"
   ]
  },
  {
   "cell_type": "markdown",
   "id": "dbac00c9-9351-4e6b-a0d5-7141d29cad51",
   "metadata": {},
   "source": [
    "## Assign the number of processors for parallelization\n",
    "All the processing stages are parallelized with the `pmap` function.\n",
    "You can increase the number of cores by `Distributed.addprocs()` to conduct the parallel processing.\n",
    "\n",
    "**NOTE:** \n",
    "- We need to add at least one processor of the worker for the `pmap` parallelization.\n",
    "- The kernel is restarting when the memory of docker is run out. 4GB per core is safe to run this notebook.\n",
    "- The number of `nprocs` is not linked to the physical number of cores. However, you need the cores more than the `nprocs` to optimize the performance of parallelization. "
   ]
  },
  {
   "cell_type": "code",
   "execution_count": 8,
   "id": "04e7505d-b9ff-483a-957b-2fb1eb29ff00",
   "metadata": {},
   "outputs": [
    {
     "name": "stdout",
     "output_type": "stream",
     "text": [
      "Before adding the procs: NP=1\n",
      "After adding the procs: NP=2"
     ]
    }
   ],
   "source": [
    "print(\"Before adding the procs: NP=$(nprocs())\\n\");\n",
    "NP = 1 # >= 1, number of additional processors; for docker users, the maximum number is managed in the docker configuration.\n",
    "addprocs(NP) \n",
    "print(\"After adding the procs: NP=$(nprocs())\");\n",
    "# You need to redefine the packages in all the processors.\n",
    "@everywhere using SeisMonitoring\n"
   ]
  },
  {
   "cell_type": "markdown",
   "id": "0598f02f-e363-4668-8ae7-925190e23e02",
   "metadata": {},
   "source": [
    "# 1. Download the data\n",
    "\n",
    "We demonstrate to download the data from the data server. In this notebook, we download the 3 days of the continuous wavefrom associated with the station `EADB` in the High Resolution Seismic Network (HRSN) operated by the Berkeley Seismological Laboratory from the [Northern California Earthquake Data Center](https://ncedc.org/).\n",
    "\n",
    "**Data Citation:**\n",
    "\"HRSN (2014), High Resolution Seismic Network. UC Berkeley Seismological Laboratory. Dataset. doi:[10.7932/HRSN](https://ncedc.org/hrsn/hrsn.overview.html).\"\n",
    "\n",
    "**Warning:** Do NOT download the data with a large number of parallelization (i.e. large number of `nprocs`); which causes issues in the data server."
   ]
  },
  {
   "cell_type": "code",
   "execution_count": 9,
   "id": "428ac873-151f-46f2-bec6-d50c77b006b2",
   "metadata": {},
   "outputs": [
    {
     "name": "stdout",
     "output_type": "stream",
     "text": [
      "t[\"NCEDC\"] = 1×10 DataFrame\n",
      " Row │ network  station  location  channel  latitude  longitude   elevation  sitename                        starttime            endtime\n",
      "     │ String   String   String    String   String    String      String     String                          DateTime             DateTime\n",
      "─────┼────────────────────────────────────────────────────────────────────────────────────────────────────────────────────────────────────────────────\n",
      "   1 │ BP       EADB     *         SP*      35.89522  -120.42262  469.0      Eade Ranch, Parkfield, CA, USA  2000-11-25T00:00:00  3000-01-01T00:00:00\n"
     ]
    }
   ],
   "source": [
    "# Show the station list to download the data. The structure of JLD2 is [\"SERVER\"/\"STATIONTABLE\"]\n",
    "t = jldopen(\"/root/data/run_seismonitoring_demo_OUTPUT/run_seismonitoring_demo.jld2\", \"r\")\n",
    "@show t[\"NCEDC\"]\n",
    "close(t)"
   ]
  },
  {
   "cell_type": "code",
   "execution_count": 10,
   "id": "941707c7-4899-4528-bc4f-0329a8f0386a",
   "metadata": {},
   "outputs": [],
   "source": [
    "# For the demonstration, we limit the number of station and time chuncks\n",
    "set_parameter(fo_mainparam, \"starttime\", \"2016-01-15T00:00:00\")\n",
    "set_parameter(fo_mainparam, \"endtime\", \"2016-01-17T00:00:00\")"
   ]
  },
  {
   "cell_type": "markdown",
   "id": "944129e7-5b5b-4a0d-8c67-6ebd75278617",
   "metadata": {},
   "source": [
    "`SeisMonitoring.run_job()` is the function to run the processing. You can run all the processes with a single job by turning on the options.\n",
    "\n",
    "In this notebook, we run the processes separately for the sake of demonstration."
   ]
  },
  {
   "cell_type": "code",
   "execution_count": 11,
   "id": "e31f69ed-fa51-4961-8514-1b023250a863",
   "metadata": {},
   "outputs": [
    {
     "name": "stdout",
     "output_type": "stream",
     "text": [
      "\n",
      "\n",
      "*************************************************************************************\n",
      "  _____        _       __  __                _  _                _\n",
      " / ____|      (_)     |  \\/  |              (_)| |              (_)\n",
      "| (___    ___  _  ___ | \\  / |  ___   _ __   _ | |_  ___   _ __  _  _ __    __ _\n",
      " \\___ \\  / _ \\| |/ __|| |\\/| | / _ \\ | '_ \\ | || __|/ _ \\ | '__|| || '_ \\  / _` |\n",
      " ____) ||  __/| |\\__ \\| |  | || (_) || | | || || |_| (_) || |   | || | | || (_| |\n",
      "|_____/  \\___||_||___/|_|  |_| \\___/ |_| |_||_| \\__|\\___/ |_|   |_||_| |_| \\__, |\n",
      "                                                                            __/ |\n",
      "                                                                           |___/\n",
      "\n",
      "v0.2.0 (Last update: 2023-09-06) © Kurama Okubo\n",
      "*************************************************************************************\n",
      "\n",
      "Job start running at 2023-10-15T02:58:19\n",
      "\n",
      "\n",
      "\u001b[36m\u001b[1minput file: /root/data/run_seismonitoring_demo_INPUT/mainparam.jl\u001b[22m\u001b[39m\n",
      "\n",
      "***************************************\n",
      "seisdownload       = true\n",
      "seisremoveeq       = false\n",
      "seisxcorrelation   = false\n",
      "seisstack          = false\n",
      "***************************************\n",
      "\n",
      "Preparing parallel processing.\n",
      "Number of procs              : 2\n",
      "Number of available CPU Cores per node: 4\n",
      "Number of workers is distributed into cpu cores, so Nprocs>=Ncores uses all cores.\n",
      "\n",
      "\u001b[36m\u001b[1mStart running SeisDownload\u001b[22m\u001b[39m\n",
      "\n",
      "-------START DOWNLOADING--------\n",
      "      From worker 2:\tstart downloading 2016-01-15T00:00:00\n",
      "      From worker 2:\tWARNING: both IOExtras and Base export \"closewrite\"; uses of it in module StreamRequest must be qualified\n",
      "      From worker 2:\tWARNING: both IOExtras and Base export \"closewrite\"; uses of it in module ConnectionPool must be qualified\n",
      "      From worker 2:\tstart downloading 2016-01-16T00:00:00\n",
      "-------START CONVERTING--------\n",
      "---Summary of computational time---\n",
      "Total download time: 28.6021[s]\n",
      "SeisDownload successfully done in 29.080041885375977 seconds.\n",
      "\n",
      "*********************************************\n",
      "All requested processes have been successfully done.\n",
      "Computational_time[sec]:\n",
      "SeisDownload, 29.080041885375977\n",
      "SeisRemoveEQ, 0.0\n",
      "SeisXcorrelation, 0.0\n",
      "SeisStack, 0.0\n",
      "Total Computational time is 29.0801 seconds.\n",
      "*********************************************\n",
      "\n"
     ]
    }
   ],
   "source": [
    "SeisMonitoring.run_job(\"/root/data/run_seismonitoring_demo_INPUT/mainparam.jl\", \n",
    "        run_seisdownload=true,\n",
    "        run_seisremoveeq=false,\n",
    "        run_seisxcorrelation=false,\n",
    "        run_seisstack=false)"
   ]
  },
  {
   "cell_type": "markdown",
   "id": "5741f550-4996-40e5-9068-fb6fc23c9814",
   "metadata": {},
   "source": [
    "The seismic data is stored in the structure of `SeisIO.SeisChannel` in the SeisIO native binary format.\n",
    "Lets's check the seismic trace."
   ]
  },
  {
   "cell_type": "code",
   "execution_count": 12,
   "id": "598b9c53-a688-4b79-aa0b-2fee9a66b36d",
   "metadata": {},
   "outputs": [
    {
     "data": {
      "text/plain": [
       "SeisChannel with 1728001 samples\n",
       "    ID: BP.EADB.40.SP1\n",
       "  NAME: Eade Ranch, Parkfield, CA, USA\n",
       "   LOC: 35.8952 N, -120.423 E, 224.0 m\n",
       "    FS: 20.0\n",
       "  GAIN: 1.0\n",
       "  RESP: a0 1.0, f0 1.0, 1z, 1p\n",
       " UNITS: m/s\n",
       "   SRC: https://service.ncedc.org/fdsnws/dataselect/1/query\n",
       "  MISC: 6 entries\n",
       " NOTES: 10 entries\n",
       "     T: 2016-01-15T00:00:00 (0 gaps)        \n",
       "     X: +7.267e-07                          \n",
       "        +6.724e-07                          \n",
       "            ...                             \n",
       "        -1.008e-06                          \n",
       "        (nx = 1728001)                      "
      ]
     },
     "execution_count": 12,
     "metadata": {},
     "output_type": "execute_result"
    }
   ],
   "source": [
    "finame=\"/root/data/run_seismonitoring_demo_OUTPUT/seismicdata/rawseismicdata/BP.EADB.40.SP1/2016/BP.EADB.40.SP1__2016-01-15T00:00:00__2016-01-16T00:00:00__sp1.seisio\"\n",
    "S0 = rseis(finame)[1]\n",
    "S0"
   ]
  },
  {
   "cell_type": "code",
   "execution_count": 13,
   "id": "080dc814-88f9-4a6e-a744-c56b867eae87",
   "metadata": {},
   "outputs": [],
   "source": [
    "starttime = u2d.(S0.t[1, 2]*1e-6)\n",
    "nx = S0.t[2, 1]\n",
    "tvec = collect(0:1/S0.fs:length(S0.x)/S0.fs)\n",
    "tvec_date = u2d.(tvec .+ S0.t[1,2]*1e-6);"
   ]
  },
  {
   "cell_type": "markdown",
   "id": "16c50a4e-5cf2-4a27-9ee9-02c6f73279b1",
   "metadata": {},
   "source": [
    "**NOTE:** We already prepared examples of the plots in this notebook for the sake of demonstration.\n",
    "We can replot the figures by running this notebook."
   ]
  },
  {
   "cell_type": "code",
   "execution_count": 14,
   "id": "992839a2-7ac3-43b7-a9c8-57bb178925cc",
   "metadata": {},
   "outputs": [
    {
     "data": {
      "text/plain": [
       "\"/root/data/run_seismonitoring_demo_OUTPUT/plots/seismicdata/rawdata_BP.EADB.40.SP1_2016-01-15T00:00:00.png\""
      ]
     },
     "execution_count": 14,
     "metadata": {},
     "output_type": "execute_result"
    }
   ],
   "source": [
    "plotspan=100 # skip some points to speed up the plotting\n",
    "\n",
    "p1=plot(tvec_date[1:plotspan:end], S0.x[1:plotspan:end].*1e6, title=\"$starttime\", \n",
    "    xlabel=\"Time\", ylabel=\"Velocity [µm/s]\", label=\"$(S0.id)\", size=(1000,400), margin=10Plots.mm, dpi=150)\n",
    "\n",
    "savefig(p1, \"/root/data/run_seismonitoring_demo_OUTPUT/plots/seismicdata/rawdata_BP.EADB.40.SP1_2016-01-15T00:00:00.png\")"
   ]
  },
  {
   "cell_type": "code",
   "execution_count": 15,
   "id": "cc2d97f9-2e06-47fa-a9ec-75d7301ba125",
   "metadata": {},
   "outputs": [],
   "source": [
    "# Here you can show the plot by conducting the plot object in this cell. \n",
    "# However, this increases the file size of the notebook, which causes a problem with rendering in the nbviewer.\n",
    "# We thus plot the image using Markdown instead of plotting with Julia.\n",
    "\n",
    "# p1 # Remove this comment out when plotting the figure"
   ]
  },
  {
   "cell_type": "markdown",
   "id": "a651935e-8121-4f28-8bb0-61c487abbfb5",
   "metadata": {},
   "source": [
    "**NOTE:** It takes a little bit long time to plot the figure for the first time because of the dynamic compilation, but you will find it much faster for the second time as the module has been compiled."
   ]
  },
  {
   "cell_type": "markdown",
   "id": "16be337c-c359-4cc0-8f5d-c49c4cbf0124",
   "metadata": {},
   "source": [
    "<!--- Render the figure --->\n",
    "<img src= \"../data/run_seismonitoring_demo_OUTPUT/plots/seismicdata/rawdata_BP.EADB.40.SP1_2016-01-15T00:00:00.png\" width=\"1000px\"/>"
   ]
  },
  {
   "cell_type": "markdown",
   "id": "2d9ea278-9bfa-49af-9340-1485aa777424",
   "metadata": {},
   "source": [
    "**NOTE:** If the figure is not renewed, it might be caused due to **the cache of the browser**. Please reload the browser and run the cell. "
   ]
  },
  {
   "cell_type": "markdown",
   "id": "f4c57f62-df63-4511-91f9-fae783566ded",
   "metadata": {},
   "source": [
    "# 2. Remove the transient signals; earthquakes and tremors"
   ]
  },
  {
   "cell_type": "code",
   "execution_count": 16,
   "id": "66c5429f-5887-4b31-9a6d-a75be02fb93f",
   "metadata": {},
   "outputs": [],
   "source": [
    "set_parameter(fo_mainparam, \"Append_alltraces\", \"true\") # save all the intermediate traces during the removal of earthquake and tremors."
   ]
  },
  {
   "cell_type": "code",
   "execution_count": 17,
   "id": "d4dbc66a-4c0e-41f9-9e2a-e2bd48a777e5",
   "metadata": {},
   "outputs": [
    {
     "name": "stdout",
     "output_type": "stream",
     "text": [
      "\n",
      "\n",
      "*************************************************************************************\n",
      "  _____        _       __  __                _  _                _\n",
      " / ____|      (_)     |  \\/  |              (_)| |              (_)\n",
      "| (___    ___  _  ___ | \\  / |  ___   _ __   _ | |_  ___   _ __  _  _ __    __ _\n",
      " \\___ \\  / _ \\| |/ __|| |\\/| | / _ \\ | '_ \\ | || __|/ _ \\ | '__|| || '_ \\  / _` |\n",
      " ____) ||  __/| |\\__ \\| |  | || (_) || | | || || |_| (_) || |   | || | | || (_| |\n",
      "|_____/  \\___||_||___/|_|  |_| \\___/ |_| |_||_| \\__|\\___/ |_|   |_||_| |_| \\__, |\n",
      "                                                                            __/ |\n",
      "                                                                           |___/\n",
      "\n",
      "v0.2.0 (Last update: 2023-09-06) © Kurama Okubo\n",
      "*************************************************************************************\n",
      "\n",
      "Job start running at 2023-10-15T02:58:59\n",
      "\n",
      "\n",
      "\u001b[36m\u001b[1minput file: /root/data/run_seismonitoring_demo_INPUT/mainparam.jl\u001b[22m\u001b[39m\n",
      "\n",
      "***************************************\n",
      "seisdownload       = false\n",
      "seisremoveeq       = true\n",
      "seisxcorrelation   = false\n",
      "seisstack          = false\n",
      "***************************************\n",
      "\n",
      "Preparing parallel processing.\n",
      "Number of procs              : 2\n",
      "Number of available CPU Cores per node: 4\n",
      "Number of workers is distributed into cpu cores, so Nprocs>=Ncores uses all cores.\n",
      "\n",
      "\u001b[36m\u001b[1mStart running SeisRemoveEQ\u001b[22m\u001b[39m\n",
      "\n",
      "***************************************\n",
      "IsKurtosisRemoval  = true\n",
      "IsSTALTARemoval    = true\n",
      "IsWhitening        = false\n",
      "***************************************\n",
      "\n",
      "-------START Removing EQ--------\n",
      "      From worker 2:\tstart process on BP.EADB.40.SP1__2016-01-15T00:00:00__2016-01-16T00:00:00__sp1.seisio\n",
      "      From worker 2:\tstart process on BP.EADB.40.SP1__2016-01-16T00:00:00__2016-01-17T00:00:00__sp1.seisio\n",
      "      From worker 2:\tstart process on BP.EADB.40.SP2__2016-01-15T00:00:00__2016-01-16T00:00:00__sp2.seisio\n",
      "      From worker 2:\tstart process on BP.EADB.40.SP2__2016-01-16T00:00:00__2016-01-17T00:00:00__sp2.seisio\n",
      "      From worker 2:\tstart process on BP.EADB.40.SP3__2016-01-15T00:00:00__2016-01-16T00:00:00__sp3.seisio\n",
      "      From worker 2:\tstart process on BP.EADB.40.SP3__2016-01-16T00:00:00__2016-01-17T00:00:00__sp3.seisio\n",
      "-------START Converting--------\n",
      "\u001b[36m\u001b[1m---Summary---\u001b[22m\u001b[39m\n",
      "time for mean kurtosis cputime  =0.017939694833333335[s]\n",
      "time for mean stalta cputime    =0.30466349333333337[s]\n",
      "time for remove EQ total    =12.552777881[s]\n",
      "time for convert total      =0.0[s]\n",
      "SeisRemoveEQ successfully done in 12.704566955566406 seconds.\n",
      "\n",
      "*********************************************\n",
      "All requested processes have been successfully done.\n",
      "Computational_time[sec]:\n",
      "SeisDownload, 0.0\n",
      "SeisRemoveEQ, 12.704566955566406\n",
      "SeisXcorrelation, 0.0\n",
      "SeisStack, 0.0\n",
      "Total Computational time is 12.7046 seconds.\n",
      "*********************************************\n",
      "\n"
     ]
    }
   ],
   "source": [
    "SeisMonitoring.run_job(\"/root/data/run_seismonitoring_demo_INPUT/mainparam.jl\", \n",
    "        run_seisdownload=false,\n",
    "        run_seisremoveeq=true,\n",
    "        run_seisxcorrelation=false,\n",
    "        run_seisstack=false)"
   ]
  },
  {
   "cell_type": "code",
   "execution_count": 18,
   "id": "a32b18ab-7da9-4bfe-9e69-d711c49468c8",
   "metadata": {},
   "outputs": [],
   "source": [
    "#Let's check the result of the removal of earthquakes and tremors\n",
    "t = jldopen(\"/root/data/run_seismonitoring_demo_OUTPUT/seismicdata/seisremoveeq/BP.EADB.40.SP1__2016-01-15T00:00:00__2016-01-16T00:00:00__sp1.seisio.jld2\", \"r\")\n",
    "S1 = t[\"S\"]\n",
    "close(t)"
   ]
  },
  {
   "cell_type": "code",
   "execution_count": 19,
   "id": "06f5d686-4ab7-4745-b2c8-70623a160fdf",
   "metadata": {},
   "outputs": [
    {
     "data": {
      "text/plain": [
       "\"/root/data/run_seismonitoring_demo_OUTPUT/plots/seismicdata/eqremoval_BP.EADB.40.SP1_2016-01-15T00:00:00.png\""
      ]
     },
     "execution_count": 19,
     "metadata": {},
     "output_type": "execute_result"
    }
   ],
   "source": [
    "plotspan = 100\n",
    "kurtosis_plotspan=60*20 # kurtosis is computed every 60 second * 20Hz \n",
    "trace_ylim = (-12, 12)\n",
    "\n",
    "kurtosis_threshold=parse(PARAM[\"kurtosis_threshold\"][2], PARAM[\"kurtosis_threshold\"][1]) \n",
    "stalta_threshold=parse(PARAM[\"stalta_threshold\"][2], PARAM[\"stalta_threshold\"][1]) \n",
    "\n",
    "ticks = tvec_date[1]:Hour(6):tvec_date[end]\n",
    "\n",
    "tvec = collect(0:1/S1.fs:(length(S1.x)-1)/S1.fs)\n",
    "tvec_date = u2d.(tvec .+ S1.t[1,2]*1e-6)\n",
    "p1=plot(tvec_date, S1.misc[\"raw_trace\"]*1e6, color=:black,xformatter=_->\"\",  label=\"\", ylabel=\"µm/s\")\n",
    "p1=plot!(p1,xformatter=_->\"\", title = \"(a)\", titleloc = :left, titlefont = font(10), ylim=trace_ylim)\n",
    "p2=plot(tvec_date[kurtosis_plotspan:kurtosis_plotspan:end], S1.misc[\"kurtsis_trace\"][kurtosis_plotspan:kurtosis_plotspan:end], color=:blue, xformatter=_->\"\",  label=\"\", ylabel=\"kurtosis\")\n",
    "p2=hline!(p2, [kurtosis_threshold], label=\"\", xformatter=_->\"\", title = \"(b)\", titleloc = :left, titlefont = font(10))\n",
    "p3=plot(tvec_date[1:plotspan:end], S1.misc[\"stalta_trace\"][1:plotspan:end], color=:green, xformatter=_->\"\", label=\"\", ylabel=\"STA/LTA\")\n",
    "p3=hline!(p3, [stalta_threshold], label=\"\", xformatter=_->\"\", title = \"(c)\", titleloc = :left, titlefont = font(10))\n",
    "p4=plot(tvec_date[1:plotspan:end], S1.x[1:plotspan:end]*1e6, color=:red, xformatter=_->\"\", label=\"\", ylabel=\"µm/s\")\n",
    "p4 = plot!(title = \"(d)\", titleloc = :left, titlefont = font(10), ylim=trace_ylim)\n",
    "\n",
    "# plot all\n",
    "p5 = plot(p1, p2, p3, p4, layout=(4, 1), link=:x, xticks=ticks)\n",
    "plot!(size=(1000,800), right_margin=10Plots.mm, dpi=150)\n",
    "\n",
    "savefig(p5, \"/root/data/run_seismonitoring_demo_OUTPUT/plots/seismicdata/eqremoval_$(S1.id)_$(starttime).png\")"
   ]
  },
  {
   "cell_type": "markdown",
   "id": "790f690d-76be-4999-9749-b76e69acaf90",
   "metadata": {},
   "source": [
    "<!--- Render the figure --->\n",
    "<img src=\"../data/run_seismonitoring_demo_OUTPUT/plots/seismicdata/eqremoval_BP.EADB.40.SP1_2016-01-15T00:00:00.png\" width=\"1000\" />"
   ]
  },
  {
   "cell_type": "code",
   "execution_count": 20,
   "id": "db474a25-94c7-43dc-8721-e6ccab65594c",
   "metadata": {},
   "outputs": [
    {
     "name": "stdout",
     "output_type": "stream",
     "text": [
      "\n",
      "\n",
      "*************************************************************************************\n",
      "  _____        _       __  __                _  _                _\n",
      " / ____|      (_)     |  \\/  |              (_)| |              (_)\n",
      "| (___    ___  _  ___ | \\  / |  ___   _ __   _ | |_  ___   _ __  _  _ __    __ _\n",
      " \\___ \\  / _ \\| |/ __|| |\\/| | / _ \\ | '_ \\ | || __|/ _ \\ | '__|| || '_ \\  / _` |\n",
      " ____) ||  __/| |\\__ \\| |  | || (_) || | | || || |_| (_) || |   | || | | || (_| |\n",
      "|_____/  \\___||_||___/|_|  |_| \\___/ |_| |_||_| \\__|\\___/ |_|   |_||_| |_| \\__, |\n",
      "                                                                            __/ |\n",
      "                                                                           |___/\n",
      "\n",
      "v0.2.0 (Last update: 2023-09-06) © Kurama Okubo\n",
      "*************************************************************************************\n",
      "\n",
      "Job start running at 2023-10-15T02:59:16\n",
      "\n",
      "\n",
      "\u001b[36m\u001b[1minput file: /root/data/run_seismonitoring_demo_INPUT/mainparam.jl\u001b[22m\u001b[39m\n",
      "\n",
      "***************************************\n",
      "seisdownload       = false\n",
      "seisremoveeq       = true\n",
      "seisxcorrelation   = false\n",
      "seisstack          = false\n",
      "***************************************\n",
      "\n",
      "Preparing parallel processing.\n",
      "Number of procs              : 2\n",
      "Number of available CPU Cores per node: 4\n",
      "Number of workers is distributed into cpu cores, so Nprocs>=Ncores uses all cores.\n",
      "\n",
      "\u001b[36m\u001b[1mStart running SeisRemoveEQ\u001b[22m\u001b[39m\n",
      "\n",
      "***************************************\n",
      "IsKurtosisRemoval  = true\n",
      "IsSTALTARemoval    = true\n",
      "IsWhitening        = false\n",
      "***************************************\n",
      "\n",
      "-------START Removing EQ--------\n",
      "      From worker 2:\tstart process on BP.EADB.40.SP1__2016-01-15T00:00:00__2016-01-16T00:00:00__sp1.seisio\n",
      "      From worker 2:\tstart process on BP.EADB.40.SP1__2016-01-16T00:00:00__2016-01-17T00:00:00__sp1.seisio\n",
      "      From worker 2:\tstart process on BP.EADB.40.SP2__2016-01-15T00:00:00__2016-01-16T00:00:00__sp2.seisio\n",
      "      From worker 2:\tstart process on BP.EADB.40.SP2__2016-01-16T00:00:00__2016-01-17T00:00:00__sp2.seisio\n",
      "      From worker 2:\tstart process on BP.EADB.40.SP3__2016-01-15T00:00:00__2016-01-16T00:00:00__sp3.seisio\n",
      "      From worker 2:\tstart process on BP.EADB.40.SP3__2016-01-16T00:00:00__2016-01-17T00:00:00__sp3.seisio\n",
      "-------START Converting--------\n",
      "\u001b[36m\u001b[1m---Summary---\u001b[22m\u001b[39m\n",
      "time for mean kurtosis cputime  =0.011454222166666668[s]\n",
      "time for mean stalta cputime    =0.210241389[s]\n",
      "time for remove EQ total    =2.677418418[s]\n",
      "time for convert total      =0.0[s]\n",
      "SeisRemoveEQ successfully done in 2.6823549270629883 seconds.\n",
      "\n",
      "*********************************************\n",
      "All requested processes have been successfully done.\n",
      "Computational_time[sec]:\n",
      "SeisDownload, 0.0\n",
      "SeisRemoveEQ, 2.6823549270629883\n",
      "SeisXcorrelation, 0.0\n",
      "SeisStack, 0.0\n",
      "Total Computational time is 2.6824 seconds.\n",
      "*********************************************\n",
      "\n"
     ]
    }
   ],
   "source": [
    "# For the cross-correlation, we need to re-run the removal without appending the intermediate traces.\n",
    "set_parameter(fo_mainparam, \"Append_alltraces\", \"false\") # save all the intermediate traces during the removal of earthquake and tremors.\n",
    "SeisMonitoring.run_job(\"/root/data/run_seismonitoring_demo_INPUT/mainparam.jl\", \n",
    "        run_seisdownload=false,\n",
    "        run_seisremoveeq=true,\n",
    "        run_seisxcorrelation=false,\n",
    "        run_seisstack=false)"
   ]
  },
  {
   "cell_type": "markdown",
   "id": "2d48cf37-de14-4727-87b1-74e5cace6061",
   "metadata": {},
   "source": [
    "# 3. Compute cross-correlation"
   ]
  },
  {
   "cell_type": "markdown",
   "id": "e7dbb8bb-61a9-42bc-af9a-db1d7d2f4e14",
   "metadata": {},
   "source": [
    "We conduct the cross-correlation associated with the downloaded data. The parameters associated with the correlations such as `cc_len` are described in `/root/data/run_seismonitoring_demo_INPUT/mainparam.jl`. \n",
    "\n",
    "**NOTE:** The first run of the cross-correlation takes time due to the compilation of the functions like ~ 5min. Once the functions are compiled, the cross-correlation is optimized in parallel."
   ]
  },
  {
   "cell_type": "code",
   "execution_count": 21,
   "id": "bd8e6f7b-bfd7-4fb7-aff6-9939162e6a8f",
   "metadata": {
    "scrolled": true
   },
   "outputs": [
    {
     "name": "stdout",
     "output_type": "stream",
     "text": [
      "\n",
      "\n",
      "*************************************************************************************\n",
      "  _____        _       __  __                _  _                _\n",
      " / ____|      (_)     |  \\/  |              (_)| |              (_)\n",
      "| (___    ___  _  ___ | \\  / |  ___   _ __   _ | |_  ___   _ __  _  _ __    __ _\n",
      " \\___ \\  / _ \\| |/ __|| |\\/| | / _ \\ | '_ \\ | || __|/ _ \\ | '__|| || '_ \\  / _` |\n",
      " ____) ||  __/| |\\__ \\| |  | || (_) || | | || || |_| (_) || |   | || | | || (_| |\n",
      "|_____/  \\___||_||___/|_|  |_| \\___/ |_| |_||_| \\__|\\___/ |_|   |_||_| |_| \\__, |\n",
      "                                                                            __/ |\n",
      "                                                                           |___/\n",
      "\n",
      "v0.2.0 (Last update: 2023-09-06) © Kurama Okubo\n",
      "*************************************************************************************\n",
      "\n",
      "Job start running at 2023-10-15T02:59:19\n",
      "\n",
      "\n",
      "\u001b[36m\u001b[1minput file: /root/data/run_seismonitoring_demo_INPUT/mainparam.jl\u001b[22m\u001b[39m\n",
      "\n",
      "***************************************\n",
      "seisdownload       = false\n",
      "seisremoveeq       = false\n",
      "seisxcorrelation   = true\n",
      "seisstack          = false\n",
      "***************************************\n",
      "\n",
      "Preparing parallel processing.\n",
      "Number of procs              : 2\n",
      "Number of available CPU Cores per node: 4\n",
      "Number of workers is distributed into cpu cores, so Nprocs>=Ncores uses all cores.\n",
      "***************************************\n",
      "Cross-correlation starttime     = 2016-01-15T00:00:00\n",
      "Cross-correlation endtime       = 2016-01-17T00:00:00\n",
      "Cross-correlation normalization = none\n",
      "Cross-correlation type          = CC\n",
      "Station pairs option            = SubString{String}[\"all\"]\n",
      "Cross-correlation chanpair type = SubString{String}[\"all\"]\n",
      "***************************************\n",
      "\n",
      "-------START Cross-correlation--------\n",
      "2023-10-15T02:59:19.560: time chunk 2016-01-15T00:00:00-2016-01-17T00:00:00\n",
      "all_stations_chunk = [\"BP.EADB.40.SP1\", \"BP.EADB.40.SP2\", \"BP.EADB.40.SP3\"]\n",
      "length(StationPairs_chunk) = 9\n",
      "debug: memory_use: 0.081238395 GB.\n",
      "time for map_fft, map_cc, testpmap = 7.436144502, 17.649315133 [s]\n",
      "seisxcorrelation has been successfully done.\n",
      "\u001b[36m\u001b[1m---Summary---\u001b[22m\u001b[39m\n",
      "median time for assemble cputime  =0.7588786526666667[s]\n",
      "median time for fft cputime       =0.026799903[s]\n",
      "median time for cc  cputime       =0.06280455577777778[s]\n",
      "done.\n",
      "SeisXcorrelation successfully done in 25.810539960861206 seconds.\n",
      "\n",
      "*********************************************\n",
      "All requested processes have been successfully done.\n",
      "Computational_time[sec]:\n",
      "SeisDownload, 0.0\n",
      "SeisRemoveEQ, 0.0\n",
      "SeisXcorrelation, 25.810539960861206\n",
      "SeisStack, 0.0\n",
      "Total Computational time is 25.8106 seconds.\n",
      "*********************************************\n",
      "\n"
     ]
    }
   ],
   "source": [
    "set_parameter(fo_mainparam, \"freqency_band\", \"0.2, 0.5, 0.9, 1.2, 2.0\") # boundaries of the frequency bands\n",
    "\n",
    "set_parameter(fo_mainparam, \"IsPreStack\", \"false\") # avoid the prestack of the unit time (e.g. day) to keep all the short-time (e.g. hourly) CFs.\n",
    "\n",
    "SeisMonitoring.run_job(\"/root/data/run_seismonitoring_demo_INPUT/mainparam.jl\", \n",
    "        run_seisdownload=false,\n",
    "        run_seisremoveeq=false,\n",
    "        run_seisxcorrelation=true,\n",
    "        run_seisstack=false)"
   ]
  },
  {
   "cell_type": "markdown",
   "id": "0bf5fa81-4920-48d6-a410-cbda89a66455",
   "metadata": {},
   "source": [
    "Let's check the cross-correlation functions; channel correlation of SP1-SP2\n",
    "\n",
    "The correlation functions are stored as `SeisNoise.CorrData`. The JLD2 file contains the `CorrData` associated with the time chunks and frequency bands."
   ]
  },
  {
   "cell_type": "code",
   "execution_count": 22,
   "id": "28e025fd-9bf6-4027-9d35-803731640661",
   "metadata": {},
   "outputs": [
    {
     "data": {
      "text/plain": [
       "\"2016-01-16T00:00:00--2016-01-17T00:00:00\""
      ]
     },
     "execution_count": 22,
     "metadata": {},
     "output_type": "execute_result"
    }
   ],
   "source": [
    "# Station pair and time chunk to read and plot the CFs\n",
    "stationpair = [\"SP1\", \"SP2\"] # choose from SP1, SP2, SP3\n",
    "timechunk = \"2016-01-16T00:00:00--2016-01-17T00:00:00\" "
   ]
  },
  {
   "cell_type": "code",
   "execution_count": 23,
   "id": "2f2e9da8-72e7-40d2-85bd-68d94a817fd0",
   "metadata": {},
   "outputs": [
    {
     "data": {
      "text/plain": [
       "JLDFile /root/data/run_seismonitoring_demo_OUTPUT/cc/BP.EADB.40.SP1-BP.EADB.40.SP2/BP.EADB.40.SP1-BP.EADB.40.SP2__2016-01-15T00:00:00__2016-01-17T00:00:00.jld2 (read-only)\n",
       " ├─📂 2016-01-15T00:00:00--2016-01-16T00:00:00\n",
       " │  ├─🔢 0.2-0.5\n",
       " │  ├─🔢 0.5-0.9\n",
       " │  ├─🔢 0.9-1.2\n",
       " │  └─🔢 1.2-2.0\n",
       " └─📂 2016-01-16T00:00:00--2016-01-17T00:00:00\n",
       "    ├─🔢 0.2-0.5\n",
       "    ├─🔢 0.5-0.9\n",
       "    ├─🔢 0.9-1.2\n",
       "    └─🔢 1.2-2.0"
      ]
     },
     "execution_count": 23,
     "metadata": {},
     "output_type": "execute_result"
    }
   ],
   "source": [
    "t = jldopen(\"/root/data/run_seismonitoring_demo_OUTPUT/cc/BP.EADB.40.$(stationpair[1])-BP.EADB.40.$(stationpair[2])/BP.EADB.40.$(stationpair[1])-BP.EADB.40.$(stationpair[2])__2016-01-15T00:00:00__2016-01-17T00:00:00.jld2\", \"r\")\n",
    "t"
   ]
  },
  {
   "cell_type": "code",
   "execution_count": 24,
   "id": "19cd5f67-0273-4e44-91f4-0bc7f8421893",
   "metadata": {},
   "outputs": [],
   "source": [
    "# Store the corr data from the JLD2 output.\n",
    "freqkeys = Vector{String}()\n",
    "Clist = Vector{CorrData}()\n",
    "for key in keys(t[\"2016-01-15T00:00:00--2016-01-16T00:00:00\"])\n",
    "    push!(freqkeys, key)\n",
    "    push!(Clist, t[\"$(timechunk)/$(key)\"])\n",
    "end\n",
    "close(t)"
   ]
  },
  {
   "cell_type": "code",
   "execution_count": 25,
   "id": "84114b2f-f463-4583-8ffb-d037ab673484",
   "metadata": {},
   "outputs": [],
   "source": [
    "plot_all = []\n",
    "for i = 1:length(freqkeys)\n",
    "    push!(plot_all, Plots.plot(Clist[i], title=\"$(freqkeys[i])Hz\"))\n",
    "end"
   ]
  },
  {
   "cell_type": "code",
   "execution_count": 26,
   "id": "d96e0867-ec19-4bee-a740-a969c0fd3ee2",
   "metadata": {},
   "outputs": [
    {
     "data": {
      "text/plain": [
       "\"/root/data/run_seismonitoring_demo_OUTPUT/plots/cc/CCF_BP.EADB.40.SP1.BP.EADB.40.SP2_2016-01-16.png\""
      ]
     },
     "execution_count": 26,
     "metadata": {},
     "output_type": "execute_result"
    }
   ],
   "source": [
    "p = plot(plot_all[1], plot_all[2], plot_all[3], plot_all[4], layout=(2, 2), link=:x, size=(800, 800),\n",
    "    plot_title=Clist[1].name, dpi=150)\n",
    "\n",
    "savefig(p, \"/root/data/run_seismonitoring_demo_OUTPUT/plots/cc/CCF_$(Clist[1].name)_$(Clist[1].id).png\")"
   ]
  },
  {
   "cell_type": "markdown",
   "id": "536bf66d-d5f1-4569-8d47-6e619a05125f",
   "metadata": {},
   "source": [
    "<!--- Render the figure --->\n",
    "<img src=\"../data/run_seismonitoring_demo_OUTPUT/plots/cc/CCF_BP.EADB.40.SP1.BP.EADB.40.SP2_2016-01-16.png\" width=\"800\" />"
   ]
  },
  {
   "cell_type": "code",
   "execution_count": 27,
   "id": "cfcd9db5-a2d4-48f8-887e-a4b915ccddad",
   "metadata": {},
   "outputs": [
    {
     "data": {
      "text/plain": [
       "-100.0:0.05:100.0"
      ]
     },
     "execution_count": 27,
     "metadata": {},
     "output_type": "execute_result"
    }
   ],
   "source": [
    "# time vector of the lag time\n",
    "tvec_corr = -Clist[1].maxlag:1/(Clist[1].fs):Clist[1].maxlag"
   ]
  },
  {
   "cell_type": "code",
   "execution_count": 28,
   "id": "c4df7e55-b46d-4598-b8be-d78e6d348567",
   "metadata": {},
   "outputs": [],
   "source": [
    "plot_all_wiggle = []\n",
    "\n",
    "for i = 1:length(freqkeys)\n",
    "    maxamp = maximum(Clist[i].corr)\n",
    "    yshift = (0:size(Clist[i].corr, 2)-1) * 1.0 * maxamp\n",
    "    push!(plot_all_wiggle, Plots.plot(tvec_corr, Clist[i].corr .+ yshift', xlabel=\"Lags [s]\", ylabel=\"Short-time CFs\",\n",
    "            yticks=false, label=\"\", title=\"$(freqkeys[i])Hz\"))\n",
    "end"
   ]
  },
  {
   "cell_type": "code",
   "execution_count": 29,
   "id": "63e43933-4717-4b3b-b5ab-510a3eef1e4c",
   "metadata": {},
   "outputs": [
    {
     "data": {
      "text/plain": [
       "\"/root/data/run_seismonitoring_demo_OUTPUT/plots/cc/CCFWiggle_BP.EADB.40.SP1.BP.EADB.40.SP2_2016-01-16.png\""
      ]
     },
     "execution_count": 29,
     "metadata": {},
     "output_type": "execute_result"
    }
   ],
   "source": [
    "p = plot(plot_all_wiggle[1], plot_all_wiggle[2], plot_all_wiggle[3], plot_all_wiggle[4],\n",
    "    layout=(2, 2), link=:x, size=(800, 800), plot_title=Clist[1].name,  margin=5Plots.mm, dpi=150)\n",
    "\n",
    "savefig(p, \"/root/data/run_seismonitoring_demo_OUTPUT/plots/cc/CCFWiggle_$(Clist[1].name)_$(Clist[1].id).png\")"
   ]
  },
  {
   "cell_type": "markdown",
   "id": "007de4a3-0dad-4d3d-9c05-e4cab85cb7a3",
   "metadata": {},
   "source": [
    "<!--- Render the figure --->\n",
    "<img src=\"../data/run_seismonitoring_demo_OUTPUT/plots/cc/CCFWiggle_BP.EADB.40.SP1.BP.EADB.40.SP2_2016-01-16.png\" width=\"800\" />"
   ]
  },
  {
   "cell_type": "markdown",
   "id": "dafe158b-b7a0-4bf6-b0c6-227b4e30c9fb",
   "metadata": {},
   "source": [
    "You can find the short-time correlation functions with different frequency bands. In practice, we set `IsPreStack` as `true` such that we prestack the short-time CFs as e.g. daily stack for the sake of reducing the output file size. "
   ]
  },
  {
   "cell_type": "markdown",
   "id": "505265c0-2628-4255-8c0c-cb578178387e",
   "metadata": {},
   "source": [
    "## Channel collection of the correlations\n",
    "Before we move to stack, we collect the output of correlation functions into a single .jld2 file. This is because\n",
    "\n",
    "1. We parallelized the processes of computing the correlations with the time chunks, and separately output the correlations into the JLD2 files. It is thus efficient to collect them in a single file for stacking. The length of parallelized time chunk is configured by `timechunk_increment` in the `mainparam.jl`. The default is parallelizing every 5 days for all the station pairs, which is taken by a worker.\n",
    "\n",
    "2. We want to merge the channels between e.g. \"BP*\" and \"SP*\". We store those correlation functions in the same file."
   ]
  },
  {
   "cell_type": "code",
   "execution_count": 30,
   "id": "d90d54af-c564-4471-8af2-7fcd9b5fc42d",
   "metadata": {},
   "outputs": [
    {
     "name": "stdout",
     "output_type": "stream",
     "text": [
      "\n",
      "\n",
      "*************************************************************************************\n",
      "  _____        _       __  __                _  _                _\n",
      " / ____|      (_)     |  \\/  |              (_)| |              (_)\n",
      "| (___    ___  _  ___ | \\  / |  ___   _ __   _ | |_  ___   _ __  _  _ __    __ _\n",
      " \\___ \\  / _ \\| |/ __|| |\\/| | / _ \\ | '_ \\ | || __|/ _ \\ | '__|| || '_ \\  / _` |\n",
      " ____) ||  __/| |\\__ \\| |  | || (_) || | | || || |_| (_) || |   | || | | || (_| |\n",
      "|_____/  \\___||_||___/|_|  |_| \\___/ |_| |_||_| \\__|\\___/ |_|   |_||_| |_| \\__, |\n",
      "                                                                            __/ |\n",
      "                                                                           |___/\n",
      "\n",
      "v0.2.0 (Last update: 2023-09-06) © Kurama Okubo\n",
      "*************************************************************************************\n",
      "\n",
      "Job start running at 2023-10-15T02:59:50\n",
      "\n",
      "\n",
      "\u001b[36m\u001b[1minput file: /root/data/run_seismonitoring_demo_INPUT/mainparam.jl\u001b[22m\u001b[39m\n",
      "\n",
      "***************************************\n",
      "seisdownload       = false\n",
      "seisremoveeq       = false\n",
      "seisxcorrelation   = false\n",
      "seisstack          = true\n",
      "***************************************\n",
      "\n",
      "Preparing parallel processing.\n",
      "Number of procs              : 2\n",
      "Number of available CPU Cores per node: 4\n",
      "Number of workers is distributed into cpu cores, so Nprocs>=Ncores uses all cores.\n",
      "***************************************\n",
      "Reference starttime      = 2010-01-01T00:00:00\n",
      "Reference endtime        = 2020-01-01T00:00:00\n",
      "Shorttime stack starttime= 2016-01-15T00:00:00\n",
      "Shorttime stack endtime  = 2016-01-17T00:00:00\n",
      "Stacking method          = selective\n",
      "collect_stationpairs     = true\n",
      "Compute_reference        = false\n",
      "Compute_shorttimestack   = false\n",
      "Station pairs option     = SubString{String}[\"all\"]\n",
      "Stack chanpair type      = SubString{String}[\"all\"]\n",
      "***************************************\n",
      "\n",
      "-------START collect station pairs--------\n",
      "cc_channel_collection successfully done.\n",
      "seisstack has been successfully done.\n",
      "\u001b[36m\u001b[1m---Summary---\u001b[22m\u001b[39m\n",
      "Total time for collect station pairs = 6.879583336[s]\n",
      "Total time for reference stack = 0.0[s]\n",
      "Total time for shorttime stack = 0.0[s]\n",
      "mean time for reference corrdata assemble = 0.0[s]\n",
      "mean time for shorttime corrdata assemble = 0[s]\n",
      "mean time for reference stack  =0[s]\n",
      "mean time for shorttime stack  =0[s]\n",
      "SeisStack successfully done in 6.96582293510437 seconds.\n",
      "\n",
      "*********************************************\n",
      "All requested processes have been successfully done.\n",
      "Computational_time[sec]:\n",
      "SeisDownload, 0.0\n",
      "SeisRemoveEQ, 0.0\n",
      "SeisXcorrelation, 0.0\n",
      "SeisStack, 6.96582293510437\n",
      "Total Computational time is 6.9658 seconds.\n",
      "*********************************************\n",
      "\n"
     ]
    }
   ],
   "source": [
    "set_parameter(fo_mainparam, \"stack_RawData_dir\", \"/root/data/run_seismonitoring_demo_OUTPUT/cc\") # collect the stationpair\n",
    "set_parameter(fo_mainparam, \"collect_stationpairs\", \"true\") # collect the stationpair\n",
    "set_parameter(fo_mainparam, \"compute_reference\", \"false\") # compute the reference stack\n",
    "set_parameter(fo_mainparam, \"compute_shorttimestack\", \"false\") # compute the short time (e.g. monthly) stack\n",
    "\n",
    "SeisMonitoring.run_job(\"/root/data/run_seismonitoring_demo_INPUT/mainparam.jl\", \n",
    "        run_seisdownload=false,\n",
    "        run_seisremoveeq=false,\n",
    "        run_seisxcorrelation=false,\n",
    "        run_seisstack=true)"
   ]
  },
  {
   "cell_type": "code",
   "execution_count": 31,
   "id": "a4e651c9-c4ca-4cef-b635-de390141d212",
   "metadata": {},
   "outputs": [
    {
     "data": {
      "text/plain": [
       "JLDFile /root/data/run_seismonitoring_demo_OUTPUT/cc_channel_collection/BP.EADB-BP.EADB-11.jld2 (read-only)\n",
       " ├─📂 2016-01-15T00:00:00--2016-01-16T00:00:00\n",
       " │  ├─🔢 0.2-0.5\n",
       " │  ├─🔢 0.5-0.9\n",
       " │  ├─🔢 0.9-1.2\n",
       " │  └─🔢 1.2-2.0\n",
       " └─📂 2016-01-16T00:00:00--2016-01-17T00:00:00\n",
       "    ├─🔢 0.2-0.5\n",
       "    ├─🔢 0.5-0.9\n",
       "    ├─🔢 0.9-1.2\n",
       "    └─🔢 1.2-2.0"
      ]
     },
     "execution_count": 31,
     "metadata": {},
     "output_type": "execute_result"
    }
   ],
   "source": [
    "# check the collected correlation functions\n",
    "staionpairname = \"BP.EADB-BP.EADB-11\"\n",
    "t = jldopen(\"/root/data/run_seismonitoring_demo_OUTPUT/cc_channel_collection/$(staionpairname).jld2\")\n",
    "t"
   ]
  },
  {
   "cell_type": "markdown",
   "id": "ff2c4e0f-7e5d-4f70-81c7-5646e3baf451",
   "metadata": {},
   "source": [
    "# 4. Stacking the correlation functions and evaluating dv/v\n",
    "\n",
    "So far we processed only a few days of seismic noise, but we now download the correlation functions over 20 years from the data server, which we precomputed, and perform the stacking and measurement of dv/v to show its time history."
   ]
  },
  {
   "cell_type": "code",
   "execution_count": 32,
   "id": "f462617f-0e9a-41b0-a5e2-e8683ded9caf",
   "metadata": {},
   "outputs": [
    {
     "name": "stdout",
     "output_type": "stream",
     "text": [
      "Start download BP.EADB-BP.LCCB-13. It takes about 5 minutes.\n",
      "152.364246 / 152.364246 MB downloaded. \r"
     ]
    },
    {
     "data": {
      "text/plain": [
       "\"/root/data/run_seismonitoring_demo_OUTPUT/cc_channel_collection/BP.EADB-BP.LCCB-13.jld2\""
      ]
     },
     "execution_count": 32,
     "metadata": {},
     "output_type": "execute_result"
    }
   ],
   "source": [
    "ccfiname = \"BP.EADB-BP.LCCB-13\" # The station-channel pair to process the stacking\n",
    "\n",
    "if isfile(\"/root/data/run_seismonitoring_demo_OUTPUT/cc_channel_collection/$(ccfiname).jld2\")\n",
    "    # error(\"$(ccfiname) already exists. Please remove it before downloading the cc file.\" )\n",
    "end\n",
    "\n",
    "# Download the data from the server\n",
    "ccfile_url = \"https://dasway.ess.washington.edu/shared/kokubo/BP.EADB-BP.LCCB-13__0.9-1.2.jld2\"\n",
    "\n",
    "function fprog(total,now)\n",
    "    prog = now/total\n",
    "    print(\"$(now/1e6) / $(total/1e6) MB downloaded. \\r\");flush(stdout)\n",
    "    if mod(prog, 0.2) < 0.01\n",
    "        Main.IJulia.stdio_bytes[] = 0\n",
    "    end\n",
    "end\n",
    "\n",
    "println(\"Start download $(ccfiname). It takes about 5 minutes.\")\n",
    "ccfile_path = Downloads.download(ccfile_url, \"/root/data/run_seismonitoring_demo_OUTPUT/cc_channel_collection/$(ccfiname).jld2\", progress=fprog )"
   ]
  },
  {
   "cell_type": "code",
   "execution_count": 33,
   "id": "550cf939-248e-4357-8a67-aeb4426677bf",
   "metadata": {
    "scrolled": true
   },
   "outputs": [
    {
     "name": "stdout",
     "output_type": "stream",
     "text": [
      "\n",
      "\n",
      "*************************************************************************************\n",
      "  _____        _       __  __                _  _                _\n",
      " / ____|      (_)     |  \\/  |              (_)| |              (_)\n",
      "| (___    ___  _  ___ | \\  / |  ___   _ __   _ | |_  ___   _ __  _  _ __    __ _\n",
      " \\___ \\  / _ \\| |/ __|| |\\/| | / _ \\ | '_ \\ | || __|/ _ \\ | '__|| || '_ \\  / _` |\n",
      " ____) ||  __/| |\\__ \\| |  | || (_) || | | || || |_| (_) || |   | || | | || (_| |\n",
      "|_____/  \\___||_||___/|_|  |_| \\___/ |_| |_||_| \\__|\\___/ |_|   |_||_| |_| \\__, |\n",
      "                                                                            __/ |\n",
      "                                                                           |___/\n",
      "\n",
      "v0.2.0 (Last update: 2023-09-06) © Kurama Okubo\n",
      "*************************************************************************************\n",
      "\n",
      "Job start running at 2023-10-15T03:04:48\n",
      "\n",
      "\n",
      "\u001b[36m\u001b[1minput file: /root/data/run_seismonitoring_demo_INPUT/mainparam.jl\u001b[22m\u001b[39m\n",
      "\n",
      "***************************************\n",
      "seisdownload       = false\n",
      "seisremoveeq       = false\n",
      "seisxcorrelation   = false\n",
      "seisstack          = true\n",
      "***************************************\n",
      "\n",
      "Preparing parallel processing.\n",
      "Number of procs              : 2\n",
      "Number of available CPU Cores per node: 4\n",
      "Number of workers is distributed into cpu cores, so Nprocs>=Ncores uses all cores.\n",
      "***************************************\n",
      "Reference starttime      = 2010-01-01T00:00:00\n",
      "Reference endtime        = 2020-01-01T00:00:00\n",
      "Shorttime stack starttime= 2002-01-01T00:00:00\n",
      "Shorttime stack endtime  = 2022-06-01T00:00:00\n",
      "Stacking method          = selective\n",
      "collect_stationpairs     = false\n",
      "Compute_reference        = true\n",
      "Compute_shorttimestack   = true\n",
      "Station pairs option     = SubString{String}[\"all\"]\n",
      "Stack chanpair type      = SubString{String}[\"all\"]\n",
      "***************************************\n",
      "\n",
      "-------START Reference stack--------\n",
      "      From worker 2:\tstart processing BP.EADB-BP.EADB-11\n",
      "      From worker 2:\tdebug: BP.EADB-BP.EADB-11 is done. all freq cpu time: 1.437981834[s].\n",
      "      From worker 2:\tdebug: map /root/data/run_seismonitoring_demo_OUTPUT/cc_channel_collection/BP.EADB-BP.EADB-11.jld2 is done with assemble:0.394652542, stack:0.035433958, seismeasurement:0[s].\n",
      "      From worker 2:\tstart processing BP.EADB-BP.EADB-12\n",
      "      From worker 2:\tdebug: BP.EADB-BP.EADB-12 is done. all freq cpu time: 0.149151459[s].\n",
      "      From worker 2:\tdebug: map /root/data/run_seismonitoring_demo_OUTPUT/cc_channel_collection/BP.EADB-BP.EADB-12.jld2 is done with assemble:0.01201225, stack:0.000147, seismeasurement:0[s].\n",
      "      From worker 2:\tstart processing BP.EADB-BP.EADB-13\n",
      "      From worker 2:\tdebug: BP.EADB-BP.EADB-13 is done. all freq cpu time: 0.155571[s].\n",
      "      From worker 2:\tdebug: map /root/data/run_seismonitoring_demo_OUTPUT/cc_channel_collection/BP.EADB-BP.EADB-13.jld2 is done with assemble:0.011361625, stack:0.000110833, seismeasurement:0[s].\n",
      "      From worker 2:\tstart processing BP.EADB-BP.EADB-21\n",
      "      From worker 2:\tdebug: BP.EADB-BP.EADB-21 is done. all freq cpu time: 0.151186834[s].\n",
      "      From worker 2:\tdebug: map /root/data/run_seismonitoring_demo_OUTPUT/cc_channel_collection/BP.EADB-BP.EADB-21.jld2 is done with assemble:0.010930125, stack:0.000108083, seismeasurement:0[s].\n",
      "      From worker 2:\tstart processing BP.EADB-BP.EADB-22\n",
      "      From worker 2:\tdebug: BP.EADB-BP.EADB-22 is done. all freq cpu time: 0.151987833[s].\n",
      "      From worker 2:\tdebug: map /root/data/run_seismonitoring_demo_OUTPUT/cc_channel_collection/BP.EADB-BP.EADB-22.jld2 is done with assemble:0.012262125, stack:0.00011675, seismeasurement:0[s].\n",
      "      From worker 2:\tstart processing BP.EADB-BP.EADB-23\n",
      "      From worker 2:\tdebug: BP.EADB-BP.EADB-23 is done. all freq cpu time: 0.155647125[s].\n",
      "      From worker 2:\tdebug: map /root/data/run_seismonitoring_demo_OUTPUT/cc_channel_collection/BP.EADB-BP.EADB-23.jld2 is done with assemble:0.010712084, stack:0.000104792, seismeasurement:0[s].\n",
      "      From worker 2:\tstart processing BP.EADB-BP.EADB-31\n",
      "      From worker 2:\tdebug: BP.EADB-BP.EADB-31 is done. all freq cpu time: 0.156403167[s].\n",
      "      From worker 2:\tdebug: map /root/data/run_seismonitoring_demo_OUTPUT/cc_channel_collection/BP.EADB-BP.EADB-31.jld2 is done with assemble:0.013973333, stack:0.000133166, seismeasurement:0[s].\n",
      "      From worker 2:\tstart processing BP.EADB-BP.EADB-32\n",
      "      From worker 2:\tdebug: BP.EADB-BP.EADB-32 is done. all freq cpu time: 0.170537[s].\n",
      "      From worker 2:\tdebug: map /root/data/run_seismonitoring_demo_OUTPUT/cc_channel_collection/BP.EADB-BP.EADB-32.jld2 is done with assemble:0.012784333, stack:0.000177166, seismeasurement:0[s].\n",
      "      From worker 2:\tstart processing BP.EADB-BP.EADB-33\n",
      "      From worker 2:\tdebug: BP.EADB-BP.EADB-33 is done. all freq cpu time: 0.160155875[s].\n",
      "      From worker 2:\tdebug: map /root/data/run_seismonitoring_demo_OUTPUT/cc_channel_collection/BP.EADB-BP.EADB-33.jld2 is done with assemble:0.011132334, stack:0.000115459, seismeasurement:0[s].\n",
      "      From worker 2:\tstart processing BP.EADB-BP.LCCB-13\n",
      "      From worker 2:\tdebug: BP.EADB-BP.LCCB-13 is done. all freq cpu time: 47.519071897[s].\n",
      "      From worker 2:\tdebug: map /root/data/run_seismonitoring_demo_OUTPUT/cc_channel_collection/BP.EADB-BP.LCCB-13.jld2 is done with assemble:47.264129981, stack:0.001328291, seismeasurement:0[s].\n",
      "-------START Shorttime stack--------\n",
      "      From worker 2:\tstart processing BP.EADB-BP.EADB-11\n",
      "      From worker 2:\tdebug: BP.EADB-BP.EADB-11 is done. all freq cpu time: 4.356279335[s].\n",
      "      From worker 2:\tdebug: map /root/data/run_seismonitoring_demo_OUTPUT/cc_channel_collection/BP.EADB-BP.EADB-11.jld2 is done with assemble:0.014906951999999973, stack:0.256657041, seismeasurement:3.633939919[s].\n",
      "      From worker 2:\tstart processing BP.EADB-BP.EADB-12\n",
      "      From worker 2:\tdebug: BP.EADB-BP.EADB-12 is done. all freq cpu time: 0.307588667[s].\n",
      "      From worker 2:\tdebug: map /root/data/run_seismonitoring_demo_OUTPUT/cc_channel_collection/BP.EADB-BP.EADB-12.jld2 is done with assemble:0.020705371000000024, stack:0.003552, seismeasurement:4.0375e-5[s].\n",
      "      From worker 2:\tstart processing BP.EADB-BP.EADB-13\n",
      "      From worker 2:\tdebug: BP.EADB-BP.EADB-13 is done. all freq cpu time: 0.301541417[s].\n",
      "      From worker 2:\tdebug: map /root/data/run_seismonitoring_demo_OUTPUT/cc_channel_collection/BP.EADB-BP.EADB-13.jld2 is done with assemble:0.004007696000000003, stack:0.004875417, seismeasurement:4.0291e-5[s].\n",
      "      From worker 2:\tstart processing BP.EADB-BP.EADB-21\n",
      "      From worker 2:\tdebug: BP.EADB-BP.EADB-21 is done. all freq cpu time: 0.283294208[s].\n",
      "      From worker 2:\tdebug: map /root/data/run_seismonitoring_demo_OUTPUT/cc_channel_collection/BP.EADB-BP.EADB-21.jld2 is done with assemble:0.010316652999999985, stack:0.004905458, seismeasurement:0.00148925[s].\n",
      "      From worker 2:\tstart processing BP.EADB-BP.EADB-22\n",
      "      From worker 2:\tdebug: BP.EADB-BP.EADB-22 is done. all freq cpu time: 0.273876042[s].\n",
      "      From worker 2:\tdebug: map /root/data/run_seismonitoring_demo_OUTPUT/cc_channel_collection/BP.EADB-BP.EADB-22.jld2 is done with assemble:0.004118965000000004, stack:0.005707417, seismeasurement:4.0875e-5[s].\n",
      "      From worker 2:\tstart processing BP.EADB-BP.EADB-23\n",
      "      From worker 2:\tdebug: BP.EADB-BP.EADB-23 is done. all freq cpu time: 0.279843541[s].\n",
      "      From worker 2:\tdebug: map /root/data/run_seismonitoring_demo_OUTPUT/cc_channel_collection/BP.EADB-BP.EADB-23.jld2 is done with assemble:0.005049711000000002, stack:0.004931959, seismeasurement:5.516600000000001e-5[s].\n",
      "      From worker 2:\tstart processing BP.EADB-BP.EADB-31\n",
      "      From worker 2:\tdebug: BP.EADB-BP.EADB-31 is done. all freq cpu time: 0.307879042[s].\n",
      "      From worker 2:\tdebug: map /root/data/run_seismonitoring_demo_OUTPUT/cc_channel_collection/BP.EADB-BP.EADB-31.jld2 is done with assemble:0.004795338999999999, stack:0.004885875, seismeasurement:4.1083e-5[s].\n",
      "      From worker 2:\tstart processing BP.EADB-BP.EADB-32\n",
      "      From worker 2:\tdebug: BP.EADB-BP.EADB-32 is done. all freq cpu time: 0.276630167[s].\n",
      "      From worker 2:\tdebug: map /root/data/run_seismonitoring_demo_OUTPUT/cc_channel_collection/BP.EADB-BP.EADB-32.jld2 is done with assemble:0.0048726269999999966, stack:0.003975542, seismeasurement:3.4251e-5[s].\n",
      "      From worker 2:\tstart processing BP.EADB-BP.EADB-33\n",
      "      From worker 2:\tdebug: BP.EADB-BP.EADB-33 is done. all freq cpu time: 0.284205459[s].\n",
      "      From worker 2:\tdebug: map /root/data/run_seismonitoring_demo_OUTPUT/cc_channel_collection/BP.EADB-BP.EADB-33.jld2 is done with assemble:0.003122869000000002, stack:0.012632708, seismeasurement:3.4375e-5[s].\n",
      "      From worker 2:\tstart processing BP.EADB-BP.LCCB-13\n",
      "      From worker 2:\tdebug: BP.EADB-BP.LCCB-13 is done. all freq cpu time: 67.598871029[s].\n",
      "      From worker 2:\tdebug: map /root/data/run_seismonitoring_demo_OUTPUT/cc_channel_collection/BP.EADB-BP.LCCB-13.jld2 is done with assemble:3.7595266660000006, stack:0.18529490999999998, seismeasurement:4.939646013[s].\n",
      "seisstack has been successfully done.\n",
      "\u001b[36m\u001b[1m---Summary---\u001b[22m\u001b[39m\n",
      "Total time for collect station pairs = 0.0[s]\n",
      "Total time for reference stack = 56.568421775[s]\n",
      "Total time for shorttime stack = 75.687807242[s]\n",
      "mean time for reference corrdata assemble = 4.7753950732[s]\n",
      "mean time for shorttime corrdata assemble = 0.3831422849[s]\n",
      "mean time for reference stack  =0.0037775497999999997[s]\n",
      "mean time for shorttime stack  =0.04874183269999999[s]\n",
      "SeisStack successfully done in 132.4913628101349 seconds.\n",
      "\n",
      "*********************************************\n",
      "All requested processes have been successfully done.\n",
      "Computational_time[sec]:\n",
      "SeisDownload, 0.0\n",
      "SeisRemoveEQ, 0.0\n",
      "SeisXcorrelation, 0.0\n",
      "SeisStack, 132.4913628101349\n",
      "Total Computational time is 132.4914 seconds.\n",
      "*********************************************\n",
      "\n"
     ]
    }
   ],
   "source": [
    "set_parameter(fo_mainparam, \"stack_RawData_dir\", \"/root/data/run_seismonitoring_demo_OUTPUT/cc\") # collect the stationpair\n",
    "set_parameter(fo_mainparam, \"codaslice_debugplot\", \"false\") # debug plot of the coda window\n",
    "set_parameter(fo_mainparam, \"measurement_method\", \"mwcs\") # select the method of the measurement of dv/v\n",
    "set_parameter(fo_mainparam, \"use_local_tmpdir\", \"false\") # used mainly when you run in the cluster; process the data after copying from scratch filesystem to the local machine to avoid frequent I/O to the scratch. \n",
    "\n",
    "# Reset the starttime and endtime, which are used as the boundary of short-time stacking\n",
    "set_parameter(fo_mainparam, \"starttime\", \"2002-01-01T00:00:00\")\n",
    "set_parameter(fo_mainparam, \"endtime\", \"2022-06-01T00:00:00\")\n",
    "\n",
    "# We process the frequency band of 0.9-1.2Hz \n",
    "set_parameter(fo_mainparam, \"freqency_band\", \"0.9, 1.2\")\n",
    "\n",
    "set_parameter(fo_mainparam, \"collect_stationpairs\", \"false\") # collect the stationpair\n",
    "set_parameter(fo_mainparam, \"compute_reference\", \"true\") # compute the reference stack\n",
    "set_parameter(fo_mainparam, \"compute_shorttimestack\", \"true\") # compute the short time (e.g. monthly) stack\n",
    "\n",
    "SeisMonitoring.run_job(\"/root/data/run_seismonitoring_demo_INPUT/mainparam.jl\", \n",
    "        run_seisdownload=false,\n",
    "        run_seisremoveeq=false,\n",
    "        run_seisxcorrelation=false,\n",
    "        run_seisstack=true)"
   ]
  },
  {
   "cell_type": "markdown",
   "id": "23363bff-6f28-45e5-8cf1-ea84ba2f96b6",
   "metadata": {},
   "source": [
    "**NOTE:** The computation of the dv/v is skipped when the correlation functions within the stacking period is less than the threshold. For example, we skipped the `BP.EADB` as the amount of the correlation functions is only a few days over the monthly stack. This threshold is configured with `min_cc_datafraction`. "
   ]
  },
  {
   "cell_type": "code",
   "execution_count": 34,
   "id": "9b2ca470-18d7-4a69-8de8-788ef8f1ba1a",
   "metadata": {},
   "outputs": [],
   "source": [
    "# Check the output; the estimated dv/v is stored in the misc of corrdata\n",
    "# t = jldopen(\"/root/data/run_seismonitoring_demo_OUTPUT/stack/shorttime/shorttime_$(ccfiname).jld2\", \"r\")\n",
    "t = jldopen(\"/root/data/run_seismonitoring_demo_OUTPUT/stack/shorttime/shorttime_BP.EADB-BP.EADB-12.jld2\", \"r\")\n",
    "misc_dict = t[keys(t)[1]][\"0.9-1.2\"].misc # show an example of misc\n",
    "close(t)"
   ]
  },
  {
   "cell_type": "code",
   "execution_count": 35,
   "id": "7e8b6257-756e-4437-9847-29987afb046c",
   "metadata": {},
   "outputs": [
    {
     "data": {
      "text/plain": [
       "Dict{String, Any} with 22 entries:\n",
       "  \"distance_type\"              => \"CorrDist\"\n",
       "  \"cc_contents_frac\"           => 1.0\n",
       "  \"data_fraction\"              => 0.940966\n",
       "  \"removal_fraction\"           => 0.0590295\n",
       "  \"selectivestack_acceptratio\" => 1.0\n",
       "  \"stack_endtime\"              => DateTime(\"2016-01-18T00:00:00\")\n",
       "  \"dlerror\"                    => 0\n",
       "  \"coda_window\"                => Any[]\n",
       "  \"ccfrac_within_cc_time_unit\" => 1.0\n",
       "  \"stack_starttime\"            => DateTime(\"2015-12-19T00:00:00\")\n",
       "  \"SensorDescription\"          => \"L-22D VERTICAL,Geophone,SERCEL\"\n",
       "  \"timelag\"                    => Any[]\n",
       "  \"ClockDrift\"                 => 0.002\n",
       "  \"reference\"                  => Any[]\n",
       "  \"endDate\"                    => 32503680000000000\n",
       "  \"stack_centraltime\"          => DateTime(\"2016-01-03T00:00:00\")\n",
       "  \"stack_method\"               => \"selective\"\n",
       "  \"freq_decomposition_method\"  => \"Wavelet\"\n",
       "  \"t_stacked\"                  => [1.45282e9, 1.45282e9, 1.45282e9, 1.45282e9, …\n",
       "  \"startDate\"                  => 1445384700000000\n",
       "  \"measurement_method\"         => \"mwcs\"\n",
       "  \"fillbox\"                    => [-40.05, -5.05, 4.95, 39.95]"
      ]
     },
     "execution_count": 35,
     "metadata": {},
     "output_type": "execute_result"
    }
   ],
   "source": [
    "misc_dict"
   ]
  },
  {
   "cell_type": "markdown",
   "id": "59e48859-b030-4bdc-b6cc-7fff95f3c490",
   "metadata": {},
   "source": [
    "# 5. Post-processing to plot the dv/v time series\n",
    "\n",
    "After stacking, the values of dv/v and its error is stored in the dictionary of `CorrData.misc`. We gather them into a CSV file used for the post-processing."
   ]
  },
  {
   "cell_type": "code",
   "execution_count": 36,
   "id": "3344350c-a85f-44ba-bc2f-1b96ce85bc65",
   "metadata": {},
   "outputs": [
    {
     "name": "stdout",
     "output_type": "stream",
     "text": [
      "-------Read dvv--------\n",
      "      From worker 2:\tstart reading BP.EADB-BP.EADB-11\n",
      "      From worker 2:\tstart reading BP.EADB-BP.EADB-12\n",
      "      From worker 2:\tstart reading BP.EADB-BP.EADB-13\n",
      "      From worker 2:\tstart reading BP.EADB-BP.EADB-21\n",
      "      From worker 2:\tstart reading BP.EADB-BP.EADB-22\n",
      "      From worker 2:\tstart reading BP.EADB-BP.EADB-23\n",
      "      From worker 2:\tstart reading BP.EADB-BP.EADB-31\n",
      "      From worker 2:\tstart reading BP.EADB-BP.EADB-32\n",
      "      From worker 2:\tstart reading BP.EADB-BP.EADB-33\n",
      "      From worker 2:\tstart reading BP.EADB-BP.LCCB-13\n"
     ]
    },
    {
     "name": "stderr",
     "output_type": "stream",
     "text": [
      "\u001b[36m\u001b[1m[ \u001b[22m\u001b[39m\u001b[36m\u001b[1mInfo: \u001b[22m\u001b[39mrun_seismonitoring_demo.csv is successfully saved.\n"
     ]
    }
   ],
   "source": [
    "shorttimestackdir = \"/root/data/run_seismonitoring_demo_OUTPUT/stack/shorttime\"\n",
    "fodir = \"/root/data/\"\n",
    "starttime=DateTime(\"2002-1-1\")\n",
    "endtime=DateTime(\"2022-6-1\")\n",
    "\n",
    "# Use smstats_read_stretching or smstats_read_mwcs corresponding to the measurement method of dv/v\n",
    "SeisMonitoring.smstats_read_mwcs(shorttimestackdir, fodir, starttime, endtime, foname=\"run_seismonitoring_demo.csv\")\n"
   ]
  },
  {
   "cell_type": "code",
   "execution_count": 37,
   "id": "894678f8-5af2-4113-8be3-88500225b283",
   "metadata": {},
   "outputs": [
    {
     "data": {
      "text/plain": [
       "(0.000481353965235673, 0.00037103442937637285, 4.5483041425155044e-7, 8.612413616581483e-8)"
      ]
     },
     "execution_count": 37,
     "metadata": {},
     "output_type": "execute_result"
    }
   ],
   "source": [
    "# Check the smstats_read_mwcs\n",
    "t1 = jldopen(\"/root/data/run_seismonitoring_demo_OUTPUT/stack/shorttime/shorttime_BP.EADB-BP.LCCB-13.jld2\", \"r\")\n",
    "C1 = t1[\"2002-01-01T00:00:00--2002-01-31T00:00:00/0.9-1.2\"]\n",
    "C1.misc[\"dvv_mwcs\"], C1.misc[\"dvv0_mwcs\"], C1.misc[\"dvv_err_mwcs\"], C1.misc[\"dvv0_err_mwcs\"]"
   ]
  },
  {
   "cell_type": "markdown",
   "id": "0d66a990-909e-4837-a94d-14711b7d4a35",
   "metadata": {},
   "source": [
    "## Read the dv/v datasheet and plot the time series of dv/v"
   ]
  },
  {
   "cell_type": "code",
   "execution_count": 38,
   "id": "7064f226-e718-4835-89ee-ec1ab0b3e853",
   "metadata": {},
   "outputs": [
    {
     "data": {
      "text/html": [
       "<div><div style = \"float: left;\"><span>492×9 DataFrame</span></div><div style = \"float: right;\"><span style = \"font-style: italic;\">467 rows omitted</span></div><div style = \"clear: both;\"></div></div><div class = \"data-frame\" style = \"overflow-x: scroll;\"><table class = \"data-frame\" style = \"margin-bottom: 6px;\"><thead><tr class = \"header\"><th class = \"rowNumber\" style = \"font-weight: bold; text-align: right;\">Row</th><th style = \"text-align: left;\">date</th><th style = \"text-align: left;\">stationpair</th><th style = \"text-align: left;\">networks</th><th style = \"text-align: left;\">components</th><th style = \"text-align: left;\">freqband</th><th style = \"text-align: left;\">dvv_mwcs</th><th style = \"text-align: left;\">dvv0_mwcs</th><th style = \"text-align: left;\">dvv_err_mwcs</th><th style = \"text-align: left;\">dvv0_err_mwcs</th></tr><tr class = \"subheader headerLastRow\"><th class = \"rowNumber\" style = \"font-weight: bold; text-align: right;\"></th><th title = \"DateTime\" style = \"text-align: left;\">DateTime</th><th title = \"String15\" style = \"text-align: left;\">String15</th><th title = \"String7\" style = \"text-align: left;\">String7</th><th title = \"String\" style = \"text-align: left;\">String</th><th title = \"String7\" style = \"text-align: left;\">String7</th><th title = \"Float64\" style = \"text-align: left;\">Float64</th><th title = \"Float64\" style = \"text-align: left;\">Float64</th><th title = \"Float64\" style = \"text-align: left;\">Float64</th><th title = \"Float64\" style = \"text-align: left;\">Float64</th></tr></thead><tbody><tr><td class = \"rowNumber\" style = \"font-weight: bold; text-align: right;\">1</td><td style = \"text-align: left;\">2002-01-16T00:00:00</td><td style = \"text-align: left;\">BP.EADB-BP.LCCB</td><td style = \"text-align: left;\">BP-BP</td><td style = \"text-align: left;\">13</td><td style = \"text-align: left;\">0.9-1.2</td><td style = \"text-align: right;\">0.000481354</td><td style = \"text-align: right;\">0.000371034</td><td style = \"text-align: right;\">4.5483e-7</td><td style = \"text-align: right;\">8.61241e-8</td></tr><tr><td class = \"rowNumber\" style = \"font-weight: bold; text-align: right;\">2</td><td style = \"text-align: left;\">2002-01-31T00:00:00</td><td style = \"text-align: left;\">BP.EADB-BP.LCCB</td><td style = \"text-align: left;\">BP-BP</td><td style = \"text-align: left;\">13</td><td style = \"text-align: left;\">0.9-1.2</td><td style = \"text-align: right;\">0.000308679</td><td style = \"text-align: right;\">-0.000130312</td><td style = \"text-align: right;\">1.65694e-7</td><td style = \"text-align: right;\">4.84617e-8</td></tr><tr><td class = \"rowNumber\" style = \"font-weight: bold; text-align: right;\">3</td><td style = \"text-align: left;\">2002-02-15T00:00:00</td><td style = \"text-align: left;\">BP.EADB-BP.LCCB</td><td style = \"text-align: left;\">BP-BP</td><td style = \"text-align: left;\">13</td><td style = \"text-align: left;\">0.9-1.2</td><td style = \"text-align: right;\">-0.000440792</td><td style = \"text-align: right;\">-0.000158906</td><td style = \"text-align: right;\">3.43574e-7</td><td style = \"text-align: right;\">1.50265e-7</td></tr><tr><td class = \"rowNumber\" style = \"font-weight: bold; text-align: right;\">4</td><td style = \"text-align: left;\">2002-03-02T00:00:00</td><td style = \"text-align: left;\">BP.EADB-BP.LCCB</td><td style = \"text-align: left;\">BP-BP</td><td style = \"text-align: left;\">13</td><td style = \"text-align: left;\">0.9-1.2</td><td style = \"text-align: right;\">0.00140391</td><td style = \"text-align: right;\">3.31661e-5</td><td style = \"text-align: right;\">7.57964e-7</td><td style = \"text-align: right;\">3.9712e-7</td></tr><tr><td class = \"rowNumber\" style = \"font-weight: bold; text-align: right;\">5</td><td style = \"text-align: left;\">2002-03-17T00:00:00</td><td style = \"text-align: left;\">BP.EADB-BP.LCCB</td><td style = \"text-align: left;\">BP-BP</td><td style = \"text-align: left;\">13</td><td style = \"text-align: left;\">0.9-1.2</td><td style = \"text-align: right;\">0.000382346</td><td style = \"text-align: right;\">0.000579667</td><td style = \"text-align: right;\">3.97241e-7</td><td style = \"text-align: right;\">3.74269e-7</td></tr><tr><td class = \"rowNumber\" style = \"font-weight: bold; text-align: right;\">6</td><td style = \"text-align: left;\">2002-04-01T00:00:00</td><td style = \"text-align: left;\">BP.EADB-BP.LCCB</td><td style = \"text-align: left;\">BP-BP</td><td style = \"text-align: left;\">13</td><td style = \"text-align: left;\">0.9-1.2</td><td style = \"text-align: right;\">-0.000297107</td><td style = \"text-align: right;\">-0.00099332</td><td style = \"text-align: right;\">8.2158e-7</td><td style = \"text-align: right;\">7.93922e-7</td></tr><tr><td class = \"rowNumber\" style = \"font-weight: bold; text-align: right;\">7</td><td style = \"text-align: left;\">2002-04-16T00:00:00</td><td style = \"text-align: left;\">BP.EADB-BP.LCCB</td><td style = \"text-align: left;\">BP-BP</td><td style = \"text-align: left;\">13</td><td style = \"text-align: left;\">0.9-1.2</td><td style = \"text-align: right;\">-0.000462261</td><td style = \"text-align: right;\">-0.000799582</td><td style = \"text-align: right;\">6.05394e-7</td><td style = \"text-align: right;\">4.52298e-7</td></tr><tr><td class = \"rowNumber\" style = \"font-weight: bold; text-align: right;\">8</td><td style = \"text-align: left;\">2002-05-01T00:00:00</td><td style = \"text-align: left;\">BP.EADB-BP.LCCB</td><td style = \"text-align: left;\">BP-BP</td><td style = \"text-align: left;\">13</td><td style = \"text-align: left;\">0.9-1.2</td><td style = \"text-align: right;\">-0.000600656</td><td style = \"text-align: right;\">-0.000432947</td><td style = \"text-align: right;\">1.67821e-7</td><td style = \"text-align: right;\">1.51448e-7</td></tr><tr><td class = \"rowNumber\" style = \"font-weight: bold; text-align: right;\">9</td><td style = \"text-align: left;\">2002-05-16T00:00:00</td><td style = \"text-align: left;\">BP.EADB-BP.LCCB</td><td style = \"text-align: left;\">BP-BP</td><td style = \"text-align: left;\">13</td><td style = \"text-align: left;\">0.9-1.2</td><td style = \"text-align: right;\">7.93916e-5</td><td style = \"text-align: right;\">0.000217813</td><td style = \"text-align: right;\">3.60326e-7</td><td style = \"text-align: right;\">1.20263e-7</td></tr><tr><td class = \"rowNumber\" style = \"font-weight: bold; text-align: right;\">10</td><td style = \"text-align: left;\">2002-05-31T00:00:00</td><td style = \"text-align: left;\">BP.EADB-BP.LCCB</td><td style = \"text-align: left;\">BP-BP</td><td style = \"text-align: left;\">13</td><td style = \"text-align: left;\">0.9-1.2</td><td style = \"text-align: right;\">0.00034836</td><td style = \"text-align: right;\">0.000512044</td><td style = \"text-align: right;\">2.74828e-7</td><td style = \"text-align: right;\">1.66481e-7</td></tr><tr><td class = \"rowNumber\" style = \"font-weight: bold; text-align: right;\">11</td><td style = \"text-align: left;\">2002-06-15T00:00:00</td><td style = \"text-align: left;\">BP.EADB-BP.LCCB</td><td style = \"text-align: left;\">BP-BP</td><td style = \"text-align: left;\">13</td><td style = \"text-align: left;\">0.9-1.2</td><td style = \"text-align: right;\">-0.000161928</td><td style = \"text-align: right;\">-0.000234633</td><td style = \"text-align: right;\">7.3468e-8</td><td style = \"text-align: right;\">1.2304e-7</td></tr><tr><td class = \"rowNumber\" style = \"font-weight: bold; text-align: right;\">12</td><td style = \"text-align: left;\">2002-06-30T00:00:00</td><td style = \"text-align: left;\">BP.EADB-BP.LCCB</td><td style = \"text-align: left;\">BP-BP</td><td style = \"text-align: left;\">13</td><td style = \"text-align: left;\">0.9-1.2</td><td style = \"text-align: right;\">0.000442153</td><td style = \"text-align: right;\">0.000287655</td><td style = \"text-align: right;\">2.00098e-7</td><td style = \"text-align: right;\">2.57328e-7</td></tr><tr><td class = \"rowNumber\" style = \"font-weight: bold; text-align: right;\">13</td><td style = \"text-align: left;\">2002-07-15T00:00:00</td><td style = \"text-align: left;\">BP.EADB-BP.LCCB</td><td style = \"text-align: left;\">BP-BP</td><td style = \"text-align: left;\">13</td><td style = \"text-align: left;\">0.9-1.2</td><td style = \"text-align: right;\">0.00129074</td><td style = \"text-align: right;\">0.00146793</td><td style = \"text-align: right;\">2.23831e-7</td><td style = \"text-align: right;\">1.49461e-7</td></tr><tr><td style = \"text-align: right;\">&vellip;</td><td style = \"text-align: right;\">&vellip;</td><td style = \"text-align: right;\">&vellip;</td><td style = \"text-align: right;\">&vellip;</td><td style = \"text-align: right;\">&vellip;</td><td style = \"text-align: right;\">&vellip;</td><td style = \"text-align: right;\">&vellip;</td><td style = \"text-align: right;\">&vellip;</td><td style = \"text-align: right;\">&vellip;</td><td style = \"text-align: right;\">&vellip;</td></tr><tr><td class = \"rowNumber\" style = \"font-weight: bold; text-align: right;\">481</td><td style = \"text-align: left;\">2021-12-02T00:00:00</td><td style = \"text-align: left;\">BP.EADB-BP.LCCB</td><td style = \"text-align: left;\">BP-BP</td><td style = \"text-align: left;\">13</td><td style = \"text-align: left;\">0.9-1.2</td><td style = \"text-align: right;\">-0.000227643</td><td style = \"text-align: right;\">-0.000168979</td><td style = \"text-align: right;\">7.78795e-8</td><td style = \"text-align: right;\">5.06381e-8</td></tr><tr><td class = \"rowNumber\" style = \"font-weight: bold; text-align: right;\">482</td><td style = \"text-align: left;\">2021-12-17T00:00:00</td><td style = \"text-align: left;\">BP.EADB-BP.LCCB</td><td style = \"text-align: left;\">BP-BP</td><td style = \"text-align: left;\">13</td><td style = \"text-align: left;\">0.9-1.2</td><td style = \"text-align: right;\">-0.000743622</td><td style = \"text-align: right;\">-0.000692246</td><td style = \"text-align: right;\">2.73163e-7</td><td style = \"text-align: right;\">7.00674e-8</td></tr><tr><td class = \"rowNumber\" style = \"font-weight: bold; text-align: right;\">483</td><td style = \"text-align: left;\">2022-01-01T00:00:00</td><td style = \"text-align: left;\">BP.EADB-BP.LCCB</td><td style = \"text-align: left;\">BP-BP</td><td style = \"text-align: left;\">13</td><td style = \"text-align: left;\">0.9-1.2</td><td style = \"text-align: right;\">-0.000229797</td><td style = \"text-align: right;\">-0.000591785</td><td style = \"text-align: right;\">3.1141e-7</td><td style = \"text-align: right;\">1.4963e-7</td></tr><tr><td class = \"rowNumber\" style = \"font-weight: bold; text-align: right;\">484</td><td style = \"text-align: left;\">2022-01-16T00:00:00</td><td style = \"text-align: left;\">BP.EADB-BP.LCCB</td><td style = \"text-align: left;\">BP-BP</td><td style = \"text-align: left;\">13</td><td style = \"text-align: left;\">0.9-1.2</td><td style = \"text-align: right;\">-0.000507466</td><td style = \"text-align: right;\">-0.000435395</td><td style = \"text-align: right;\">6.00257e-8</td><td style = \"text-align: right;\">2.04675e-7</td></tr><tr><td class = \"rowNumber\" style = \"font-weight: bold; text-align: right;\">485</td><td style = \"text-align: left;\">2022-01-31T00:00:00</td><td style = \"text-align: left;\">BP.EADB-BP.LCCB</td><td style = \"text-align: left;\">BP-BP</td><td style = \"text-align: left;\">13</td><td style = \"text-align: left;\">0.9-1.2</td><td style = \"text-align: right;\">-0.0010246</td><td style = \"text-align: right;\">-0.00130928</td><td style = \"text-align: right;\">8.75261e-8</td><td style = \"text-align: right;\">2.22759e-8</td></tr><tr><td class = \"rowNumber\" style = \"font-weight: bold; text-align: right;\">486</td><td style = \"text-align: left;\">2022-02-15T00:00:00</td><td style = \"text-align: left;\">BP.EADB-BP.LCCB</td><td style = \"text-align: left;\">BP-BP</td><td style = \"text-align: left;\">13</td><td style = \"text-align: left;\">0.9-1.2</td><td style = \"text-align: right;\">-0.000334679</td><td style = \"text-align: right;\">-0.000703321</td><td style = \"text-align: right;\">4.8848e-7</td><td style = \"text-align: right;\">2.49422e-7</td></tr><tr><td class = \"rowNumber\" style = \"font-weight: bold; text-align: right;\">487</td><td style = \"text-align: left;\">2022-03-02T00:00:00</td><td style = \"text-align: left;\">BP.EADB-BP.LCCB</td><td style = \"text-align: left;\">BP-BP</td><td style = \"text-align: left;\">13</td><td style = \"text-align: left;\">0.9-1.2</td><td style = \"text-align: right;\">0.000745498</td><td style = \"text-align: right;\">0.000600931</td><td style = \"text-align: right;\">6.61583e-8</td><td style = \"text-align: right;\">3.2359e-7</td></tr><tr><td class = \"rowNumber\" style = \"font-weight: bold; text-align: right;\">488</td><td style = \"text-align: left;\">2022-03-17T00:00:00</td><td style = \"text-align: left;\">BP.EADB-BP.LCCB</td><td style = \"text-align: left;\">BP-BP</td><td style = \"text-align: left;\">13</td><td style = \"text-align: left;\">0.9-1.2</td><td style = \"text-align: right;\">0.0002109</td><td style = \"text-align: right;\">-0.000668532</td><td style = \"text-align: right;\">1.48361e-7</td><td style = \"text-align: right;\">1.51278e-7</td></tr><tr><td class = \"rowNumber\" style = \"font-weight: bold; text-align: right;\">489</td><td style = \"text-align: left;\">2022-04-01T00:00:00</td><td style = \"text-align: left;\">BP.EADB-BP.LCCB</td><td style = \"text-align: left;\">BP-BP</td><td style = \"text-align: left;\">13</td><td style = \"text-align: left;\">0.9-1.2</td><td style = \"text-align: right;\">-0.000410007</td><td style = \"text-align: right;\">-0.000404383</td><td style = \"text-align: right;\">3.18424e-7</td><td style = \"text-align: right;\">3.83894e-7</td></tr><tr><td class = \"rowNumber\" style = \"font-weight: bold; text-align: right;\">490</td><td style = \"text-align: left;\">2022-04-16T00:00:00</td><td style = \"text-align: left;\">BP.EADB-BP.LCCB</td><td style = \"text-align: left;\">BP-BP</td><td style = \"text-align: left;\">13</td><td style = \"text-align: left;\">0.9-1.2</td><td style = \"text-align: right;\">-0.000844964</td><td style = \"text-align: right;\">-0.000732264</td><td style = \"text-align: right;\">2.56616e-7</td><td style = \"text-align: right;\">2.59323e-7</td></tr><tr><td class = \"rowNumber\" style = \"font-weight: bold; text-align: right;\">491</td><td style = \"text-align: left;\">2022-05-01T00:00:00</td><td style = \"text-align: left;\">BP.EADB-BP.LCCB</td><td style = \"text-align: left;\">BP-BP</td><td style = \"text-align: left;\">13</td><td style = \"text-align: left;\">0.9-1.2</td><td style = \"text-align: right;\">-0.000441928</td><td style = \"text-align: right;\">-0.000545809</td><td style = \"text-align: right;\">2.20038e-7</td><td style = \"text-align: right;\">2.55363e-7</td></tr><tr><td class = \"rowNumber\" style = \"font-weight: bold; text-align: right;\">492</td><td style = \"text-align: left;\">2022-05-16T00:00:00</td><td style = \"text-align: left;\">BP.EADB-BP.LCCB</td><td style = \"text-align: left;\">BP-BP</td><td style = \"text-align: left;\">13</td><td style = \"text-align: left;\">0.9-1.2</td><td style = \"text-align: right;\">-0.000180868</td><td style = \"text-align: right;\">-0.000338995</td><td style = \"text-align: right;\">6.23629e-8</td><td style = \"text-align: right;\">3.21068e-8</td></tr></tbody></table></div>"
      ],
      "text/latex": [
       "\\begin{tabular}{r|ccccccc}\n",
       "\t& date & stationpair & networks & components & freqband & dvv\\_mwcs & \\\\\n",
       "\t\\hline\n",
       "\t& DateTime & String15 & String7 & String & String7 & Float64 & \\\\\n",
       "\t\\hline\n",
       "\t1 & 2002-01-16T00:00:00 & BP.EADB-BP.LCCB & BP-BP & 13 & 0.9-1.2 & 0.000481354 & $\\dots$ \\\\\n",
       "\t2 & 2002-01-31T00:00:00 & BP.EADB-BP.LCCB & BP-BP & 13 & 0.9-1.2 & 0.000308679 & $\\dots$ \\\\\n",
       "\t3 & 2002-02-15T00:00:00 & BP.EADB-BP.LCCB & BP-BP & 13 & 0.9-1.2 & -0.000440792 & $\\dots$ \\\\\n",
       "\t4 & 2002-03-02T00:00:00 & BP.EADB-BP.LCCB & BP-BP & 13 & 0.9-1.2 & 0.00140391 & $\\dots$ \\\\\n",
       "\t5 & 2002-03-17T00:00:00 & BP.EADB-BP.LCCB & BP-BP & 13 & 0.9-1.2 & 0.000382346 & $\\dots$ \\\\\n",
       "\t6 & 2002-04-01T00:00:00 & BP.EADB-BP.LCCB & BP-BP & 13 & 0.9-1.2 & -0.000297107 & $\\dots$ \\\\\n",
       "\t7 & 2002-04-16T00:00:00 & BP.EADB-BP.LCCB & BP-BP & 13 & 0.9-1.2 & -0.000462261 & $\\dots$ \\\\\n",
       "\t8 & 2002-05-01T00:00:00 & BP.EADB-BP.LCCB & BP-BP & 13 & 0.9-1.2 & -0.000600656 & $\\dots$ \\\\\n",
       "\t9 & 2002-05-16T00:00:00 & BP.EADB-BP.LCCB & BP-BP & 13 & 0.9-1.2 & 7.93916e-5 & $\\dots$ \\\\\n",
       "\t10 & 2002-05-31T00:00:00 & BP.EADB-BP.LCCB & BP-BP & 13 & 0.9-1.2 & 0.00034836 & $\\dots$ \\\\\n",
       "\t11 & 2002-06-15T00:00:00 & BP.EADB-BP.LCCB & BP-BP & 13 & 0.9-1.2 & -0.000161928 & $\\dots$ \\\\\n",
       "\t12 & 2002-06-30T00:00:00 & BP.EADB-BP.LCCB & BP-BP & 13 & 0.9-1.2 & 0.000442153 & $\\dots$ \\\\\n",
       "\t13 & 2002-07-15T00:00:00 & BP.EADB-BP.LCCB & BP-BP & 13 & 0.9-1.2 & 0.00129074 & $\\dots$ \\\\\n",
       "\t14 & 2002-07-30T00:00:00 & BP.EADB-BP.LCCB & BP-BP & 13 & 0.9-1.2 & 0.00119317 & $\\dots$ \\\\\n",
       "\t15 & 2002-08-14T00:00:00 & BP.EADB-BP.LCCB & BP-BP & 13 & 0.9-1.2 & 0.000974533 & $\\dots$ \\\\\n",
       "\t16 & 2002-08-29T00:00:00 & BP.EADB-BP.LCCB & BP-BP & 13 & 0.9-1.2 & 0.00102019 & $\\dots$ \\\\\n",
       "\t17 & 2002-09-13T00:00:00 & BP.EADB-BP.LCCB & BP-BP & 13 & 0.9-1.2 & -9.88835e-5 & $\\dots$ \\\\\n",
       "\t18 & 2002-09-28T00:00:00 & BP.EADB-BP.LCCB & BP-BP & 13 & 0.9-1.2 & -1.24785e-5 & $\\dots$ \\\\\n",
       "\t19 & 2002-10-13T00:00:00 & BP.EADB-BP.LCCB & BP-BP & 13 & 0.9-1.2 & 0.000239275 & $\\dots$ \\\\\n",
       "\t20 & 2002-10-28T00:00:00 & BP.EADB-BP.LCCB & BP-BP & 13 & 0.9-1.2 & 0.00121445 & $\\dots$ \\\\\n",
       "\t21 & 2002-11-12T00:00:00 & BP.EADB-BP.LCCB & BP-BP & 13 & 0.9-1.2 & 0.000244485 & $\\dots$ \\\\\n",
       "\t22 & 2002-11-27T00:00:00 & BP.EADB-BP.LCCB & BP-BP & 13 & 0.9-1.2 & 0.000370751 & $\\dots$ \\\\\n",
       "\t23 & 2002-12-12T00:00:00 & BP.EADB-BP.LCCB & BP-BP & 13 & 0.9-1.2 & 0.000796869 & $\\dots$ \\\\\n",
       "\t24 & 2002-12-27T00:00:00 & BP.EADB-BP.LCCB & BP-BP & 13 & 0.9-1.2 & 0.000778563 & $\\dots$ \\\\\n",
       "\t25 & 2003-01-11T00:00:00 & BP.EADB-BP.LCCB & BP-BP & 13 & 0.9-1.2 & -0.000598782 & $\\dots$ \\\\\n",
       "\t26 & 2003-01-26T00:00:00 & BP.EADB-BP.LCCB & BP-BP & 13 & 0.9-1.2 & 0.000705535 & $\\dots$ \\\\\n",
       "\t27 & 2003-02-10T00:00:00 & BP.EADB-BP.LCCB & BP-BP & 13 & 0.9-1.2 & 0.000213802 & $\\dots$ \\\\\n",
       "\t28 & 2003-02-25T00:00:00 & BP.EADB-BP.LCCB & BP-BP & 13 & 0.9-1.2 & 0.000254195 & $\\dots$ \\\\\n",
       "\t29 & 2003-03-12T00:00:00 & BP.EADB-BP.LCCB & BP-BP & 13 & 0.9-1.2 & 0.000180073 & $\\dots$ \\\\\n",
       "\t30 & 2003-03-27T00:00:00 & BP.EADB-BP.LCCB & BP-BP & 13 & 0.9-1.2 & -0.000392408 & $\\dots$ \\\\\n",
       "\t$\\dots$ & $\\dots$ & $\\dots$ & $\\dots$ & $\\dots$ & $\\dots$ & $\\dots$ &  \\\\\n",
       "\\end{tabular}\n"
      ],
      "text/plain": [
       "\u001b[1m492×9 DataFrame\u001b[0m\n",
       "\u001b[1m Row \u001b[0m│\u001b[1m date                \u001b[0m\u001b[1m stationpair     \u001b[0m\u001b[1m networks \u001b[0m\u001b[1m components \u001b[0m\u001b[1m freqband \u001b[0m\u001b[1m d\u001b[0m ⋯\n",
       "     │\u001b[90m DateTime            \u001b[0m\u001b[90m String15        \u001b[0m\u001b[90m String7  \u001b[0m\u001b[90m String     \u001b[0m\u001b[90m String7  \u001b[0m\u001b[90m F\u001b[0m ⋯\n",
       "─────┼──────────────────────────────────────────────────────────────────────────\n",
       "   1 │ 2002-01-16T00:00:00  BP.EADB-BP.LCCB  BP-BP     13          0.9-1.2     ⋯\n",
       "   2 │ 2002-01-31T00:00:00  BP.EADB-BP.LCCB  BP-BP     13          0.9-1.2\n",
       "   3 │ 2002-02-15T00:00:00  BP.EADB-BP.LCCB  BP-BP     13          0.9-1.2   -\n",
       "   4 │ 2002-03-02T00:00:00  BP.EADB-BP.LCCB  BP-BP     13          0.9-1.2\n",
       "   5 │ 2002-03-17T00:00:00  BP.EADB-BP.LCCB  BP-BP     13          0.9-1.2     ⋯\n",
       "   6 │ 2002-04-01T00:00:00  BP.EADB-BP.LCCB  BP-BP     13          0.9-1.2   -\n",
       "   7 │ 2002-04-16T00:00:00  BP.EADB-BP.LCCB  BP-BP     13          0.9-1.2   -\n",
       "   8 │ 2002-05-01T00:00:00  BP.EADB-BP.LCCB  BP-BP     13          0.9-1.2   -\n",
       "   9 │ 2002-05-16T00:00:00  BP.EADB-BP.LCCB  BP-BP     13          0.9-1.2     ⋯\n",
       "  10 │ 2002-05-31T00:00:00  BP.EADB-BP.LCCB  BP-BP     13          0.9-1.2\n",
       "  11 │ 2002-06-15T00:00:00  BP.EADB-BP.LCCB  BP-BP     13          0.9-1.2   -\n",
       "  ⋮  │          ⋮                  ⋮            ⋮          ⋮          ⋮        ⋱\n",
       " 483 │ 2022-01-01T00:00:00  BP.EADB-BP.LCCB  BP-BP     13          0.9-1.2   -\n",
       " 484 │ 2022-01-16T00:00:00  BP.EADB-BP.LCCB  BP-BP     13          0.9-1.2   - ⋯\n",
       " 485 │ 2022-01-31T00:00:00  BP.EADB-BP.LCCB  BP-BP     13          0.9-1.2   -\n",
       " 486 │ 2022-02-15T00:00:00  BP.EADB-BP.LCCB  BP-BP     13          0.9-1.2   -\n",
       " 487 │ 2022-03-02T00:00:00  BP.EADB-BP.LCCB  BP-BP     13          0.9-1.2\n",
       " 488 │ 2022-03-17T00:00:00  BP.EADB-BP.LCCB  BP-BP     13          0.9-1.2     ⋯\n",
       " 489 │ 2022-04-01T00:00:00  BP.EADB-BP.LCCB  BP-BP     13          0.9-1.2   -\n",
       " 490 │ 2022-04-16T00:00:00  BP.EADB-BP.LCCB  BP-BP     13          0.9-1.2   -\n",
       " 491 │ 2022-05-01T00:00:00  BP.EADB-BP.LCCB  BP-BP     13          0.9-1.2   -\n",
       " 492 │ 2022-05-16T00:00:00  BP.EADB-BP.LCCB  BP-BP     13          0.9-1.2   - ⋯\n",
       "\u001b[36m                                                  4 columns and 471 rows omitted\u001b[0m"
      ]
     },
     "execution_count": 38,
     "metadata": {},
     "output_type": "execute_result"
    }
   ],
   "source": [
    "df_dvv = CSV.read(\"/root/data/run_seismonitoring_demo.csv\", DataFrame)\n",
    "df_dvv.components = string.(df_dvv.components)\n",
    "df_dvv"
   ]
  },
  {
   "cell_type": "code",
   "execution_count": 39,
   "id": "a254ddb0-d9cd-4ea9-a8b4-4546d4b81c9e",
   "metadata": {},
   "outputs": [
    {
     "data": {
      "text/plain": [
       "\"/root/data/run_seismonitoring_demo_OUTPUT/plots/dvv/dvv_BP.EADB-BP.LCCB_13_0.9-1.2.png\""
      ]
     },
     "execution_count": 39,
     "metadata": {},
     "output_type": "execute_result"
    }
   ],
   "source": [
    "stationpair = \"BP.EADB-BP.LCCB\"\n",
    "components = \"13\"\n",
    "freqband = \"0.9-1.2\"\n",
    "t_SanSimeonEq = DateTime(2003, 12, 22)\n",
    "t_ParkfieldEq = DateTime(2004, 9, 28)\n",
    "\n",
    "p = plot(ylim=[-0.3, 0.3], size=(900, 400), dpi=150)\n",
    "\n",
    "df_dvv_stachanpair = df_dvv[((df_dvv.stationpair .== stationpair) .& (df_dvv.components .== components) \n",
    "        .& (df_dvv.freqband .== freqband)), :]\n",
    "\n",
    "# Compute the offset before the San Simeon earthquake\n",
    "dvv_offset = (sum(df_dvv_stachanpair[(df_dvv_stachanpair.date) .< t_SanSimeonEq, :].dvv_mwcs) \n",
    "    /size(df_dvv_stachanpair[(df_dvv_stachanpair.date) .< t_SanSimeonEq, :], 1) * -100)\n",
    "\n",
    "# The dvv with mwcs is stored as dt/t = -dv/v. We thus convert it to dv/v [%] by scaling with -100\n",
    "p = plot!(df_dvv_stachanpair[!, :date], df_dvv_stachanpair[!, :dvv_mwcs] * -100 .- dvv_offset, \n",
    "    ribbon=df_dvv_stachanpair[!, :dvv_err_mwcs] * -100, # plot error band, but it is not visible as the estimated error is small.\n",
    "    lw=1.5, lc=:black, label=\"comp $(components)\", title=\"$(stationpair) $(freqband)Hz\", legend=:bottomright,\n",
    "    ylabel=\"dv/v [%]\", margin=5Plots.mm, marker=(:circle, 2, :white))\n",
    "\n",
    "\n",
    "# Add some annotations\n",
    "p = vline!([t_SanSimeonEq], lw=1, ls=:dash, c=:red, label=\"\")\n",
    "p = vline!([t_ParkfieldEq], lw=1, ls=:dash, c=:red, label=\"\")\n",
    "p = hline!([0], lw=1, ls=:dash, c=:gray, label=\"\")\n",
    "\n",
    "t_annot = DateTime(2005, 4, 1)\n",
    "GR.setarrowsize(0.6)\n",
    "p = plot!([t_annot-Month(1), t_SanSimeonEq], [0.27, 0.27], label=\"\", arrow=(:closed, :head), c=:red)\n",
    "p = plot!([t_annot-Month(1), t_ParkfieldEq], [0.23, 0.23], label=\"\", arrow=(:closed, :head), c=:red)\n",
    "\n",
    "p = annotate!((t_annot, 0.27, text(\"2003 San Simeon earthquake\",9, :left)))\n",
    "p = annotate!((t_annot, 0.23, text(\"2004 Parkfield earthquake\",9, :left)))\n",
    "\n",
    "savefig(p, \"/root/data/run_seismonitoring_demo_OUTPUT/plots/dvv/dvv_$(stationpair)_$(components)_$(freqband).png\")"
   ]
  },
  {
   "cell_type": "markdown",
   "id": "8c631a55-5b8e-4bf4-91e6-b52597202044",
   "metadata": {},
   "source": [
    "<!--- Render the figure --->\n",
    "<img src=\"../data/run_seismonitoring_demo_OUTPUT/plots/dvv/dvv_BP.EADB-BP.LCCB_13_0.9-1.2.png\" width=\"900\" />"
   ]
  },
  {
   "cell_type": "markdown",
   "id": "52326887-5568-421e-90fb-0b742493d4a4",
   "metadata": {},
   "source": [
    "# Conclusions\n",
    "\n",
    "We conducted the noise processing from downloading the data to measuring the dv/v in this notebook with parallel computation.\n",
    "Here we demonstrated a few examples of the stations and channels, but we can extend this analysis to the >1TB scale of processing using thousands of cores.\n",
    "We can also modify the parameters of cross-correlations, switching the measurement scheme of dv/v, and plotting different pairs of cross-correlation using this notebook. Enjoy!\n"
   ]
  },
  {
   "cell_type": "code",
   "execution_count": null,
   "id": "99eb048d-d079-4c94-8c08-dde39fc53236",
   "metadata": {},
   "outputs": [],
   "source": []
  }
 ],
 "metadata": {
  "kernelspec": {
   "display_name": "Julia 1.9.2",
   "language": "julia",
   "name": "julia-1.9"
  },
  "language_info": {
   "file_extension": ".jl",
   "mimetype": "application/julia",
   "name": "julia",
   "version": "1.9.2"
  }
 },
 "nbformat": 4,
 "nbformat_minor": 5
}
